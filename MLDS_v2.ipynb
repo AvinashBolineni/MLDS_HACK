{
  "nbformat": 4,
  "nbformat_minor": 0,
  "metadata": {
    "colab": {
      "name": "Untitled47.ipynb",
      "provenance": [],
      "toc_visible": true,
      "include_colab_link": true
    },
    "kernelspec": {
      "name": "python3",
      "display_name": "Python 3"
    },
    "accelerator": "GPU"
  },
  "cells": [
    {
      "cell_type": "markdown",
      "metadata": {
        "id": "view-in-github",
        "colab_type": "text"
      },
      "source": [
        "<a href=\"https://colab.research.google.com/github/mohanrajmit/MLDS_HACK/blob/master/MLDS_v2.ipynb\" target=\"_parent\"><img src=\"https://colab.research.google.com/assets/colab-badge.svg\" alt=\"Open In Colab\"/></a>"
      ]
    },
    {
      "cell_type": "code",
      "metadata": {
        "id": "x6Dx0WExvsvG",
        "colab_type": "code",
        "outputId": "9cee1221-208c-448a-a2ba-0fb54bfa1059",
        "colab": {
          "base_uri": "https://localhost:8080/",
          "height": 80
        }
      },
      "source": [
        "from keras.models import Sequential\n",
        "from keras.layers import Dense\n",
        "import numpy"
      ],
      "execution_count": 1,
      "outputs": [
        {
          "output_type": "stream",
          "text": [
            "Using TensorFlow backend.\n"
          ],
          "name": "stderr"
        },
        {
          "output_type": "display_data",
          "data": {
            "text/html": [
              "<p style=\"color: red;\">\n",
              "The default version of TensorFlow in Colab will soon switch to TensorFlow 2.x.<br>\n",
              "We recommend you <a href=\"https://www.tensorflow.org/guide/migrate\" target=\"_blank\">upgrade</a> now \n",
              "or ensure your notebook will continue to use TensorFlow 1.x via the <code>%tensorflow_version 1.x</code> magic:\n",
              "<a href=\"https://colab.research.google.com/notebooks/tensorflow_version.ipynb\" target=\"_blank\">more info</a>.</p>\n"
            ],
            "text/plain": [
              "<IPython.core.display.HTML object>"
            ]
          },
          "metadata": {
            "tags": []
          }
        }
      ]
    },
    {
      "cell_type": "code",
      "metadata": {
        "id": "GpY1oyN9RHUU",
        "colab_type": "code",
        "outputId": "48d02e22-1eb8-4820-bc48-5fbb42e5637d",
        "colab": {
          "base_uri": "https://localhost:8080/",
          "height": 119
        }
      },
      "source": [
        "!git clone https://github.com/mohanrajmit/MLDS_HACK.git"
      ],
      "execution_count": 2,
      "outputs": [
        {
          "output_type": "stream",
          "text": [
            "Cloning into 'MLDS_HACK'...\n",
            "remote: Enumerating objects: 14, done.\u001b[K\n",
            "remote: Counting objects:   7% (1/14)\u001b[K\rremote: Counting objects:  14% (2/14)\u001b[K\rremote: Counting objects:  21% (3/14)\u001b[K\rremote: Counting objects:  28% (4/14)\u001b[K\rremote: Counting objects:  35% (5/14)\u001b[K\rremote: Counting objects:  42% (6/14)\u001b[K\rremote: Counting objects:  50% (7/14)\u001b[K\rremote: Counting objects:  57% (8/14)\u001b[K\rremote: Counting objects:  64% (9/14)\u001b[K\rremote: Counting objects:  71% (10/14)\u001b[K\rremote: Counting objects:  78% (11/14)\u001b[K\rremote: Counting objects:  85% (12/14)\u001b[K\rremote: Counting objects:  92% (13/14)\u001b[K\rremote: Counting objects: 100% (14/14)\u001b[K\rremote: Counting objects: 100% (14/14), done.\u001b[K\n",
            "remote: Compressing objects:   8% (1/12)\u001b[K\rremote: Compressing objects:  16% (2/12)\u001b[K\rremote: Compressing objects:  25% (3/12)\u001b[K\rremote: Compressing objects:  33% (4/12)\u001b[K\rremote: Compressing objects:  41% (5/12)\u001b[K\rremote: Compressing objects:  50% (6/12)\u001b[K\rremote: Compressing objects:  58% (7/12)\u001b[K\rremote: Compressing objects:  66% (8/12)\u001b[K\rremote: Compressing objects:  75% (9/12)\u001b[K\rremote: Compressing objects:  83% (10/12)\u001b[K\rremote: Compressing objects:  91% (11/12)\u001b[K\rremote: Compressing objects: 100% (12/12)\u001b[K\rremote: Compressing objects: 100% (12/12), done.\u001b[K\n",
            "Unpacking objects:   7% (1/14)   \rUnpacking objects:  14% (2/14)   \rUnpacking objects:  21% (3/14)   \rUnpacking objects:  28% (4/14)   \rUnpacking objects:  35% (5/14)   \rUnpacking objects:  42% (6/14)   \rUnpacking objects:  50% (7/14)   \rUnpacking objects:  57% (8/14)   \rUnpacking objects:  64% (9/14)   \rUnpacking objects:  71% (10/14)   \rremote: Total 14 (delta 2), reused 0 (delta 0), pack-reused 0\u001b[K\n",
            "Unpacking objects:  78% (11/14)   \rUnpacking objects:  85% (12/14)   \rUnpacking objects:  92% (13/14)   \rUnpacking objects: 100% (14/14)   \rUnpacking objects: 100% (14/14), done.\n"
          ],
          "name": "stdout"
        }
      ]
    },
    {
      "cell_type": "code",
      "metadata": {
        "id": "ToPr6CGcwA7t",
        "colab_type": "code",
        "outputId": "2efd03f4-4e85-49ad-f5bd-5e9c544e43b4",
        "colab": {
          "base_uri": "https://localhost:8080/",
          "height": 34
        }
      },
      "source": [
        "from pandas import read_csv\n",
        "filename = '/content/MLDS_HACK/Data_Train.csv'\n",
        "#names = ['F_1', 'F_3', 'F_5', 'F_7', 'F_6', 'F_8','Labels']\n",
        "train_data = read_csv(filename)\n",
        "print(train_data.shape)"
      ],
      "execution_count": 3,
      "outputs": [
        {
          "output_type": "stream",
          "text": [
            "(34800, 7)\n"
          ],
          "name": "stdout"
        }
      ]
    },
    {
      "cell_type": "code",
      "metadata": {
        "id": "p-qKPLxFmBi4",
        "colab_type": "code",
        "outputId": "7ade2682-69c3-46a8-c33e-351ef9ed4c4c",
        "colab": {
          "base_uri": "https://localhost:8080/",
          "height": 204
        }
      },
      "source": [
        "train_data.head()"
      ],
      "execution_count": 4,
      "outputs": [
        {
          "output_type": "execute_result",
          "data": {
            "text/html": [
              "<div>\n",
              "<style scoped>\n",
              "    .dataframe tbody tr th:only-of-type {\n",
              "        vertical-align: middle;\n",
              "    }\n",
              "\n",
              "    .dataframe tbody tr th {\n",
              "        vertical-align: top;\n",
              "    }\n",
              "\n",
              "    .dataframe thead th {\n",
              "        text-align: right;\n",
              "    }\n",
              "</style>\n",
              "<table border=\"1\" class=\"dataframe\">\n",
              "  <thead>\n",
              "    <tr style=\"text-align: right;\">\n",
              "      <th></th>\n",
              "      <th>F_1</th>\n",
              "      <th>F_3</th>\n",
              "      <th>F_5</th>\n",
              "      <th>F_7</th>\n",
              "      <th>F_6</th>\n",
              "      <th>F_8</th>\n",
              "      <th>Labels</th>\n",
              "    </tr>\n",
              "  </thead>\n",
              "  <tbody>\n",
              "    <tr>\n",
              "      <th>0</th>\n",
              "      <td>0.0</td>\n",
              "      <td>2.0</td>\n",
              "      <td>0.0</td>\n",
              "      <td>39.0</td>\n",
              "      <td>39.0</td>\n",
              "      <td>2.0</td>\n",
              "      <td>1.0</td>\n",
              "    </tr>\n",
              "    <tr>\n",
              "      <th>1</th>\n",
              "      <td>3.0</td>\n",
              "      <td>0.0</td>\n",
              "      <td>-16.0</td>\n",
              "      <td>39.0</td>\n",
              "      <td>39.0</td>\n",
              "      <td>0.0</td>\n",
              "      <td>5.0</td>\n",
              "    </tr>\n",
              "    <tr>\n",
              "      <th>2</th>\n",
              "      <td>0.0</td>\n",
              "      <td>0.0</td>\n",
              "      <td>16.0</td>\n",
              "      <td>39.0</td>\n",
              "      <td>39.0</td>\n",
              "      <td>0.0</td>\n",
              "      <td>1.0</td>\n",
              "    </tr>\n",
              "    <tr>\n",
              "      <th>3</th>\n",
              "      <td>1.0</td>\n",
              "      <td>0.0</td>\n",
              "      <td>4.0</td>\n",
              "      <td>37.0</td>\n",
              "      <td>37.0</td>\n",
              "      <td>0.0</td>\n",
              "      <td>1.0</td>\n",
              "    </tr>\n",
              "    <tr>\n",
              "      <th>4</th>\n",
              "      <td>0.0</td>\n",
              "      <td>0.0</td>\n",
              "      <td>17.0</td>\n",
              "      <td>67.0</td>\n",
              "      <td>67.0</td>\n",
              "      <td>0.0</td>\n",
              "      <td>1.0</td>\n",
              "    </tr>\n",
              "  </tbody>\n",
              "</table>\n",
              "</div>"
            ],
            "text/plain": [
              "   F_1  F_3   F_5   F_7   F_6  F_8  Labels\n",
              "0  0.0  2.0   0.0  39.0  39.0  2.0     1.0\n",
              "1  3.0  0.0 -16.0  39.0  39.0  0.0     5.0\n",
              "2  0.0  0.0  16.0  39.0  39.0  0.0     1.0\n",
              "3  1.0  0.0   4.0  37.0  37.0  0.0     1.0\n",
              "4  0.0  0.0  17.0  67.0  67.0  0.0     1.0"
            ]
          },
          "metadata": {
            "tags": []
          },
          "execution_count": 4
        }
      ]
    },
    {
      "cell_type": "code",
      "metadata": {
        "id": "08smXjm3tV76",
        "colab_type": "code",
        "outputId": "c84256f0-d6c2-462b-b124-ff90bfc859bc",
        "colab": {
          "base_uri": "https://localhost:8080/",
          "height": 170
        }
      },
      "source": [
        "class_counts = train_data.groupby('Labels').size()\n",
        "print(class_counts)"
      ],
      "execution_count": 5,
      "outputs": [
        {
          "output_type": "stream",
          "text": [
            "Labels\n",
            "1.0    27286\n",
            "2.0       30\n",
            "3.0      106\n",
            "4.0     5398\n",
            "5.0     1966\n",
            "6.0        5\n",
            "7.0        9\n",
            "dtype: int64\n"
          ],
          "name": "stdout"
        }
      ]
    },
    {
      "cell_type": "code",
      "metadata": {
        "id": "oa8aekf3rzJo",
        "colab_type": "code",
        "colab": {}
      },
      "source": [
        "import numpy as np\n",
        "train_data = np.asarray(train_data)"
      ],
      "execution_count": 0,
      "outputs": []
    },
    {
      "cell_type": "code",
      "metadata": {
        "id": "qanIWQP2sN2s",
        "colab_type": "code",
        "colab": {}
      },
      "source": [
        "#train_data1=trao\n",
        "train_data1 = train_data[:,0:6]\n",
        "train_labels = train_data[:,6]"
      ],
      "execution_count": 0,
      "outputs": []
    },
    {
      "cell_type": "code",
      "metadata": {
        "id": "XeQzx3TI4fnO",
        "colab_type": "code",
        "colab": {}
      },
      "source": [
        "train_labels =train_labels.astype(np.int32)"
      ],
      "execution_count": 0,
      "outputs": []
    },
    {
      "cell_type": "code",
      "metadata": {
        "id": "fW4uLchQsgKu",
        "colab_type": "code",
        "outputId": "af8019d4-c7d4-4040-9519-920be9e21ad3",
        "colab": {
          "base_uri": "https://localhost:8080/",
          "height": 51
        }
      },
      "source": [
        "print(train_data1[0])\n",
        "print(train_labels[0])"
      ],
      "execution_count": 9,
      "outputs": [
        {
          "output_type": "stream",
          "text": [
            "[ 0.  2.  0. 39. 39.  2.]\n",
            "1\n"
          ],
          "name": "stdout"
        }
      ]
    },
    {
      "cell_type": "code",
      "metadata": {
        "id": "pg85vIP3lmH7",
        "colab_type": "code",
        "outputId": "283f5f8d-00c4-4a95-e9f9-a0dc28aefa5f",
        "colab": {
          "base_uri": "https://localhost:8080/",
          "height": 34
        }
      },
      "source": [
        "test_filename = '/content/MLDS_HACK/Data_Test.csv'\n",
        "#test_names = ['F_1', 'F_3', 'F_5', 'F_7', 'F_6', 'F_8']\n",
        "test_data = read_csv(test_filename)\n",
        "print(test_data.shape)"
      ],
      "execution_count": 10,
      "outputs": [
        {
          "output_type": "stream",
          "text": [
            "(8700, 6)\n"
          ],
          "name": "stdout"
        }
      ]
    },
    {
      "cell_type": "code",
      "metadata": {
        "id": "MZ9x-rhqoRma",
        "colab_type": "code",
        "outputId": "60d8e0cf-9fc4-4098-fb8a-9bd490f5d548",
        "colab": {
          "base_uri": "https://localhost:8080/",
          "height": 204
        }
      },
      "source": [
        "test_data.head()"
      ],
      "execution_count": 11,
      "outputs": [
        {
          "output_type": "execute_result",
          "data": {
            "text/html": [
              "<div>\n",
              "<style scoped>\n",
              "    .dataframe tbody tr th:only-of-type {\n",
              "        vertical-align: middle;\n",
              "    }\n",
              "\n",
              "    .dataframe tbody tr th {\n",
              "        vertical-align: top;\n",
              "    }\n",
              "\n",
              "    .dataframe thead th {\n",
              "        text-align: right;\n",
              "    }\n",
              "</style>\n",
              "<table border=\"1\" class=\"dataframe\">\n",
              "  <thead>\n",
              "    <tr style=\"text-align: right;\">\n",
              "      <th></th>\n",
              "      <th>F_1</th>\n",
              "      <th>F_3</th>\n",
              "      <th>F_5</th>\n",
              "      <th>F_7</th>\n",
              "      <th>F_6</th>\n",
              "      <th>F_8</th>\n",
              "    </tr>\n",
              "  </thead>\n",
              "  <tbody>\n",
              "    <tr>\n",
              "      <th>0</th>\n",
              "      <td>2.0</td>\n",
              "      <td>-5.0</td>\n",
              "      <td>7.0</td>\n",
              "      <td>35.0</td>\n",
              "      <td>35.0</td>\n",
              "      <td>-5.0</td>\n",
              "    </tr>\n",
              "    <tr>\n",
              "      <th>1</th>\n",
              "      <td>0.0</td>\n",
              "      <td>0.0</td>\n",
              "      <td>-30.0</td>\n",
              "      <td>78.0</td>\n",
              "      <td>78.0</td>\n",
              "      <td>0.0</td>\n",
              "    </tr>\n",
              "    <tr>\n",
              "      <th>2</th>\n",
              "      <td>0.0</td>\n",
              "      <td>6.0</td>\n",
              "      <td>23.0</td>\n",
              "      <td>42.0</td>\n",
              "      <td>42.0</td>\n",
              "      <td>6.0</td>\n",
              "    </tr>\n",
              "    <tr>\n",
              "      <th>3</th>\n",
              "      <td>-1.0</td>\n",
              "      <td>-5.0</td>\n",
              "      <td>0.0</td>\n",
              "      <td>28.0</td>\n",
              "      <td>28.0</td>\n",
              "      <td>-5.0</td>\n",
              "    </tr>\n",
              "    <tr>\n",
              "      <th>4</th>\n",
              "      <td>-5.0</td>\n",
              "      <td>1.0</td>\n",
              "      <td>1.0</td>\n",
              "      <td>28.0</td>\n",
              "      <td>28.0</td>\n",
              "      <td>1.0</td>\n",
              "    </tr>\n",
              "  </tbody>\n",
              "</table>\n",
              "</div>"
            ],
            "text/plain": [
              "   F_1  F_3   F_5   F_7   F_6  F_8\n",
              "0  2.0 -5.0   7.0  35.0  35.0 -5.0\n",
              "1  0.0  0.0 -30.0  78.0  78.0  0.0\n",
              "2  0.0  6.0  23.0  42.0  42.0  6.0\n",
              "3 -1.0 -5.0   0.0  28.0  28.0 -5.0\n",
              "4 -5.0  1.0   1.0  28.0  28.0  1.0"
            ]
          },
          "metadata": {
            "tags": []
          },
          "execution_count": 11
        }
      ]
    },
    {
      "cell_type": "code",
      "metadata": {
        "id": "TwvMtMSN1Fke",
        "colab_type": "code",
        "outputId": "cfb2d4a6-1f4e-46ea-b99a-3153da10357d",
        "colab": {
          "base_uri": "https://localhost:8080/",
          "height": 34
        }
      },
      "source": [
        "print(train_labels.shape)"
      ],
      "execution_count": 12,
      "outputs": [
        {
          "output_type": "stream",
          "text": [
            "(34800,)\n"
          ],
          "name": "stdout"
        }
      ]
    },
    {
      "cell_type": "code",
      "metadata": {
        "id": "KnWyRQzy1zYU",
        "colab_type": "code",
        "outputId": "f051bc51-c944-42a4-af7a-87407ff19e90",
        "colab": {
          "base_uri": "https://localhost:8080/",
          "height": 34
        }
      },
      "source": [
        "print(train_labels[0])"
      ],
      "execution_count": 13,
      "outputs": [
        {
          "output_type": "stream",
          "text": [
            "1\n"
          ],
          "name": "stdout"
        }
      ]
    },
    {
      "cell_type": "code",
      "metadata": {
        "id": "ozJX-cVo5VEK",
        "colab_type": "code",
        "colab": {}
      },
      "source": [
        "train_labels_final=[]\n",
        "for row in train_labels:\n",
        "  train_labels_final.append(row-1)"
      ],
      "execution_count": 0,
      "outputs": []
    },
    {
      "cell_type": "code",
      "metadata": {
        "id": "_Ew6F7TYuBTk",
        "colab_type": "code",
        "colab": {}
      },
      "source": [
        "from keras.utils import np_utils\n",
        "number_of_classes = 7\n",
        "\n",
        "Y_train = np_utils.to_categorical(train_labels_final, number_of_classes,dtype=np.float32)"
      ],
      "execution_count": 0,
      "outputs": []
    },
    {
      "cell_type": "code",
      "metadata": {
        "id": "j7bE6Et98oaA",
        "colab_type": "code",
        "outputId": "830a11d6-fb2e-4c89-f5a7-69520113af5b",
        "colab": {
          "base_uri": "https://localhost:8080/",
          "height": 34
        }
      },
      "source": [
        "print(Y_train[0])"
      ],
      "execution_count": 16,
      "outputs": [
        {
          "output_type": "stream",
          "text": [
            "[1. 0. 0. 0. 0. 0. 0.]\n"
          ],
          "name": "stdout"
        }
      ]
    },
    {
      "cell_type": "code",
      "metadata": {
        "id": "oB5D-g1AhH1V",
        "colab_type": "code",
        "colab": {}
      },
      "source": [
        "from sklearn.preprocessing import MinMaxScaler\n",
        "scaler = MinMaxScaler(feature_range=(0, 1))\n",
        "train_normalized = scaler.fit_transform(train_data1)"
      ],
      "execution_count": 0,
      "outputs": []
    },
    {
      "cell_type": "code",
      "metadata": {
        "id": "P4uD4kX3hkLp",
        "colab_type": "code",
        "colab": {
          "base_uri": "https://localhost:8080/",
          "height": 102
        },
        "outputId": "06d5b789-64b6-4d1b-ec6d-30872064de92"
      },
      "source": [
        "print(train_normalized[0:5,:])"
      ],
      "execution_count": 32,
      "outputs": [
        {
          "output_type": "stream",
          "text": [
            "[[0.5067802  0.50727249 0.51280246 0.62921348 0.62921348 0.50727249]\n",
            " [0.50709555 0.50701506 0.51220958 0.62921348 0.62921348 0.50701506]\n",
            " [0.5067802  0.50701506 0.51339534 0.62921348 0.62921348 0.50701506]\n",
            " [0.50688531 0.50701506 0.51295068 0.62600321 0.62600321 0.50701506]\n",
            " [0.5067802  0.50701506 0.51343239 0.6741573  0.6741573  0.50701506]]\n"
          ],
          "name": "stdout"
        }
      ]
    },
    {
      "cell_type": "code",
      "metadata": {
        "id": "tED-JyfXht7u",
        "colab_type": "code",
        "colab": {
          "base_uri": "https://localhost:8080/",
          "height": 102
        },
        "outputId": "3dedf5a2-0399-4ab4-b47f-15b988de8027"
      },
      "source": [
        "#from sklearn.preprocessing import Normalizer\n",
        "scaler1 = MinMaxScaler(feature_range=(0, 1))\n",
        "test_normalized = scaler1.fit_transform(test_data)\n",
        "print(test_normalized[0:5,:])"
      ],
      "execution_count": 33,
      "outputs": [
        {
          "output_type": "stream",
          "text": [
            "[[0.47160883 0.2826087  0.31789292 0.80331263 0.80331263 0.2826087 ]\n",
            " [0.47138351 0.29249012 0.31390714 0.89233954 0.89233954 0.29249012]\n",
            " [0.47138351 0.30434783 0.3196165  0.81780538 0.81780538 0.30434783]\n",
            " [0.47127084 0.2826087  0.31713886 0.78881988 0.78881988 0.2826087 ]\n",
            " [0.47082019 0.2944664  0.31724658 0.78881988 0.78881988 0.2944664 ]]\n"
          ],
          "name": "stdout"
        }
      ]
    },
    {
      "cell_type": "markdown",
      "metadata": {
        "id": "cTGz83SSwCCL",
        "colab_type": "text"
      },
      "source": [
        "#pima indian dataset\n"
      ]
    },
    {
      "cell_type": "code",
      "metadata": {
        "id": "ICmWK70QwFVN",
        "colab_type": "code",
        "outputId": "240c3d66-4034-4acc-e78b-3bf8d36cb651",
        "colab": {
          "base_uri": "https://localhost:8080/",
          "height": 173
        }
      },
      "source": [
        "# create model\n",
        "model = Sequential()\n",
        "model.add(Dense(12, input_dim=6, init='uniform', activation='relu'))\n",
        "\n",
        "model.add(Dense(8, init='uniform', activation='relu'))\n",
        "model.add(Dense(8, init='uniform', activation='relu'))\n",
        "model.add(Dense(7, init='uniform', activation='softmax'))\n",
        "# Compile model"
      ],
      "execution_count": 34,
      "outputs": [
        {
          "output_type": "stream",
          "text": [
            "/usr/local/lib/python3.6/dist-packages/ipykernel_launcher.py:2: UserWarning: Update your `Dense` call to the Keras 2 API: `Dense(12, input_dim=6, activation=\"relu\", kernel_initializer=\"uniform\")`\n",
            "  \n",
            "/usr/local/lib/python3.6/dist-packages/ipykernel_launcher.py:3: UserWarning: Update your `Dense` call to the Keras 2 API: `Dense(8, activation=\"relu\", kernel_initializer=\"uniform\")`\n",
            "  This is separate from the ipykernel package so we can avoid doing imports until\n",
            "/usr/local/lib/python3.6/dist-packages/ipykernel_launcher.py:4: UserWarning: Update your `Dense` call to the Keras 2 API: `Dense(8, activation=\"relu\", kernel_initializer=\"uniform\")`\n",
            "  after removing the cwd from sys.path.\n",
            "/usr/local/lib/python3.6/dist-packages/ipykernel_launcher.py:5: UserWarning: Update your `Dense` call to the Keras 2 API: `Dense(7, activation=\"softmax\", kernel_initializer=\"uniform\")`\n",
            "  \"\"\"\n"
          ],
          "name": "stderr"
        }
      ]
    },
    {
      "cell_type": "code",
      "metadata": {
        "id": "RewK5Qe6wRSQ",
        "colab_type": "code",
        "colab": {}
      },
      "source": [
        "model.compile(loss='categorical_crossentropy', optimizer='adam', metrics=['accuracy'])\n"
      ],
      "execution_count": 0,
      "outputs": []
    },
    {
      "cell_type": "code",
      "metadata": {
        "id": "M3yzz9HlwUTl",
        "colab_type": "code",
        "outputId": "028afbec-3c1c-40df-b6b6-c1329163a80b",
        "colab": {
          "base_uri": "https://localhost:8080/",
          "height": 289
        }
      },
      "source": [
        "model.summary()"
      ],
      "execution_count": 36,
      "outputs": [
        {
          "output_type": "stream",
          "text": [
            "Model: \"sequential_2\"\n",
            "_________________________________________________________________\n",
            "Layer (type)                 Output Shape              Param #   \n",
            "=================================================================\n",
            "dense_5 (Dense)              (None, 12)                84        \n",
            "_________________________________________________________________\n",
            "dense_6 (Dense)              (None, 8)                 104       \n",
            "_________________________________________________________________\n",
            "dense_7 (Dense)              (None, 8)                 72        \n",
            "_________________________________________________________________\n",
            "dense_8 (Dense)              (None, 7)                 63        \n",
            "=================================================================\n",
            "Total params: 323\n",
            "Trainable params: 323\n",
            "Non-trainable params: 0\n",
            "_________________________________________________________________\n"
          ],
          "name": "stdout"
        }
      ]
    },
    {
      "cell_type": "code",
      "metadata": {
        "id": "FO2flHhEwV7k",
        "colab_type": "code",
        "outputId": "1da79ddc-8d6a-44e6-d8c8-a1f89d25ede1",
        "colab": {
          "base_uri": "https://localhost:8080/",
          "height": 1000
        }
      },
      "source": [
        "# Fit the model\n",
        "model.fit(train_normalized, Y_train, nb_epoch=200, batch_size=None)\n"
      ],
      "execution_count": 37,
      "outputs": [
        {
          "output_type": "stream",
          "text": [
            "/usr/local/lib/python3.6/dist-packages/ipykernel_launcher.py:1: UserWarning: The `nb_epoch` argument in `fit` has been renamed `epochs`.\n",
            "  \"\"\"Entry point for launching an IPython kernel.\n"
          ],
          "name": "stderr"
        },
        {
          "output_type": "stream",
          "text": [
            "Epoch 1/200\n",
            "34800/34800 [==============================] - 4s 117us/step - loss: 0.8074 - acc: 0.7834\n",
            "Epoch 2/200\n",
            "34800/34800 [==============================] - 4s 111us/step - loss: 0.6701 - acc: 0.7841\n",
            "Epoch 3/200\n",
            "34800/34800 [==============================] - 4s 107us/step - loss: 0.6703 - acc: 0.7841\n",
            "Epoch 4/200\n",
            "34800/34800 [==============================] - 4s 113us/step - loss: 0.6703 - acc: 0.7841\n",
            "Epoch 5/200\n",
            "34800/34800 [==============================] - 4s 113us/step - loss: 0.6701 - acc: 0.7841\n",
            "Epoch 6/200\n",
            "34800/34800 [==============================] - 4s 112us/step - loss: 0.6697 - acc: 0.7841\n",
            "Epoch 7/200\n",
            "34800/34800 [==============================] - 4s 109us/step - loss: 0.6705 - acc: 0.7841\n",
            "Epoch 8/200\n",
            "34800/34800 [==============================] - 4s 109us/step - loss: 0.6700 - acc: 0.7841\n",
            "Epoch 9/200\n",
            "34800/34800 [==============================] - 4s 111us/step - loss: 0.6702 - acc: 0.7841\n",
            "Epoch 10/200\n",
            "34800/34800 [==============================] - 4s 110us/step - loss: 0.6701 - acc: 0.7841\n",
            "Epoch 11/200\n",
            "34800/34800 [==============================] - 4s 111us/step - loss: 0.6703 - acc: 0.7841\n",
            "Epoch 12/200\n",
            "34800/34800 [==============================] - 4s 111us/step - loss: 0.6703 - acc: 0.7841\n",
            "Epoch 13/200\n",
            "34800/34800 [==============================] - 4s 111us/step - loss: 0.6704 - acc: 0.7841\n",
            "Epoch 14/200\n",
            "34800/34800 [==============================] - 4s 110us/step - loss: 0.6702 - acc: 0.7841\n",
            "Epoch 15/200\n",
            "34800/34800 [==============================] - 4s 111us/step - loss: 0.6701 - acc: 0.7841\n",
            "Epoch 16/200\n",
            "34800/34800 [==============================] - 4s 111us/step - loss: 0.6703 - acc: 0.7841\n",
            "Epoch 17/200\n",
            "34800/34800 [==============================] - 4s 110us/step - loss: 0.6701 - acc: 0.7841\n",
            "Epoch 18/200\n",
            "34800/34800 [==============================] - 4s 110us/step - loss: 0.6701 - acc: 0.7841\n",
            "Epoch 19/200\n",
            "34800/34800 [==============================] - 4s 108us/step - loss: 0.6700 - acc: 0.7841\n",
            "Epoch 20/200\n",
            "34800/34800 [==============================] - 4s 110us/step - loss: 0.6701 - acc: 0.7841\n",
            "Epoch 21/200\n",
            "34800/34800 [==============================] - 4s 119us/step - loss: 0.6702 - acc: 0.7841\n",
            "Epoch 22/200\n",
            "34800/34800 [==============================] - 4s 122us/step - loss: 0.6701 - acc: 0.7841\n",
            "Epoch 23/200\n",
            "34800/34800 [==============================] - 4s 120us/step - loss: 0.6702 - acc: 0.7841\n",
            "Epoch 24/200\n",
            "34800/34800 [==============================] - 4s 110us/step - loss: 0.6702 - acc: 0.7841\n",
            "Epoch 25/200\n",
            "34800/34800 [==============================] - 4s 109us/step - loss: 0.6699 - acc: 0.7841\n",
            "Epoch 26/200\n",
            "34800/34800 [==============================] - 4s 111us/step - loss: 0.6700 - acc: 0.7841\n",
            "Epoch 27/200\n",
            "34800/34800 [==============================] - 4s 111us/step - loss: 0.6701 - acc: 0.7841\n",
            "Epoch 28/200\n",
            "34800/34800 [==============================] - 4s 111us/step - loss: 0.6699 - acc: 0.7841\n",
            "Epoch 29/200\n",
            "34800/34800 [==============================] - 4s 110us/step - loss: 0.6698 - acc: 0.7841\n",
            "Epoch 30/200\n",
            "34800/34800 [==============================] - 4s 108us/step - loss: 0.6701 - acc: 0.7841\n",
            "Epoch 31/200\n",
            "34800/34800 [==============================] - 4s 111us/step - loss: 0.6701 - acc: 0.7841\n",
            "Epoch 32/200\n",
            "34800/34800 [==============================] - 4s 111us/step - loss: 0.6702 - acc: 0.7841\n",
            "Epoch 33/200\n",
            "34800/34800 [==============================] - 4s 111us/step - loss: 0.6701 - acc: 0.7841\n",
            "Epoch 34/200\n",
            "34800/34800 [==============================] - 4s 111us/step - loss: 0.6700 - acc: 0.7841\n",
            "Epoch 35/200\n",
            "34800/34800 [==============================] - 4s 111us/step - loss: 0.6702 - acc: 0.7841\n",
            "Epoch 36/200\n",
            "34800/34800 [==============================] - 4s 110us/step - loss: 0.6700 - acc: 0.7841\n",
            "Epoch 37/200\n",
            "34800/34800 [==============================] - 4s 115us/step - loss: 0.6701 - acc: 0.7841\n",
            "Epoch 38/200\n",
            "34800/34800 [==============================] - 4s 111us/step - loss: 0.6699 - acc: 0.7841\n",
            "Epoch 39/200\n",
            "34800/34800 [==============================] - 4s 109us/step - loss: 0.6699 - acc: 0.7841\n",
            "Epoch 40/200\n",
            "34800/34800 [==============================] - 4s 109us/step - loss: 0.6701 - acc: 0.7841\n",
            "Epoch 41/200\n",
            "34800/34800 [==============================] - 4s 111us/step - loss: 0.6700 - acc: 0.7841\n",
            "Epoch 42/200\n",
            "34800/34800 [==============================] - 4s 114us/step - loss: 0.6700 - acc: 0.7841\n",
            "Epoch 43/200\n",
            "34800/34800 [==============================] - 4s 114us/step - loss: 0.6698 - acc: 0.7841\n",
            "Epoch 44/200\n",
            "34800/34800 [==============================] - 4s 109us/step - loss: 0.6700 - acc: 0.7841\n",
            "Epoch 45/200\n",
            "34800/34800 [==============================] - 4s 110us/step - loss: 0.6698 - acc: 0.7841\n",
            "Epoch 46/200\n",
            "34800/34800 [==============================] - 4s 111us/step - loss: 0.6700 - acc: 0.7841\n",
            "Epoch 47/200\n",
            "34800/34800 [==============================] - 4s 108us/step - loss: 0.6699 - acc: 0.7841\n",
            "Epoch 48/200\n",
            "34800/34800 [==============================] - 4s 109us/step - loss: 0.6700 - acc: 0.7841\n",
            "Epoch 49/200\n",
            "34800/34800 [==============================] - 4s 110us/step - loss: 0.6700 - acc: 0.7841\n",
            "Epoch 50/200\n",
            "34800/34800 [==============================] - 4s 112us/step - loss: 0.6700 - acc: 0.7841\n",
            "Epoch 51/200\n",
            "34800/34800 [==============================] - 4s 113us/step - loss: 0.6699 - acc: 0.7841\n",
            "Epoch 52/200\n",
            "34800/34800 [==============================] - 4s 111us/step - loss: 0.6700 - acc: 0.7841\n",
            "Epoch 53/200\n",
            "34800/34800 [==============================] - 4s 111us/step - loss: 0.6698 - acc: 0.7841\n",
            "Epoch 54/200\n",
            "34800/34800 [==============================] - 4s 110us/step - loss: 0.6699 - acc: 0.7841\n",
            "Epoch 55/200\n",
            "34800/34800 [==============================] - 4s 109us/step - loss: 0.6701 - acc: 0.7841\n",
            "Epoch 56/200\n",
            "34800/34800 [==============================] - 4s 111us/step - loss: 0.6699 - acc: 0.7841\n",
            "Epoch 57/200\n",
            "34800/34800 [==============================] - 4s 111us/step - loss: 0.6698 - acc: 0.7841\n",
            "Epoch 58/200\n",
            "34800/34800 [==============================] - 4s 114us/step - loss: 0.6700 - acc: 0.7841\n",
            "Epoch 59/200\n",
            "34800/34800 [==============================] - 4s 113us/step - loss: 0.6698 - acc: 0.7841\n",
            "Epoch 60/200\n",
            "34800/34800 [==============================] - 4s 112us/step - loss: 0.6700 - acc: 0.7841\n",
            "Epoch 61/200\n",
            "34800/34800 [==============================] - 4s 111us/step - loss: 0.6699 - acc: 0.7841\n",
            "Epoch 62/200\n",
            "34800/34800 [==============================] - 4s 112us/step - loss: 0.6699 - acc: 0.7841\n",
            "Epoch 63/200\n",
            "34800/34800 [==============================] - 4s 113us/step - loss: 0.6698 - acc: 0.7841\n",
            "Epoch 64/200\n",
            "34800/34800 [==============================] - 4s 114us/step - loss: 0.6698 - acc: 0.7841\n",
            "Epoch 65/200\n",
            "34800/34800 [==============================] - 4s 111us/step - loss: 0.6700 - acc: 0.7841\n",
            "Epoch 66/200\n",
            "34800/34800 [==============================] - 4s 109us/step - loss: 0.6700 - acc: 0.7841\n",
            "Epoch 67/200\n",
            "34800/34800 [==============================] - 4s 109us/step - loss: 0.6699 - acc: 0.7841\n",
            "Epoch 68/200\n",
            "34800/34800 [==============================] - 4s 114us/step - loss: 0.6699 - acc: 0.7841\n",
            "Epoch 69/200\n",
            "34800/34800 [==============================] - 4s 110us/step - loss: 0.6699 - acc: 0.7841\n",
            "Epoch 70/200\n",
            "34800/34800 [==============================] - 4s 112us/step - loss: 0.6700 - acc: 0.7841\n",
            "Epoch 71/200\n",
            "34800/34800 [==============================] - 4s 110us/step - loss: 0.6699 - acc: 0.7841\n",
            "Epoch 72/200\n",
            "34800/34800 [==============================] - 4s 109us/step - loss: 0.6700 - acc: 0.7841\n",
            "Epoch 73/200\n",
            "34800/34800 [==============================] - 4s 110us/step - loss: 0.6699 - acc: 0.7841\n",
            "Epoch 74/200\n",
            "34800/34800 [==============================] - 4s 112us/step - loss: 0.6699 - acc: 0.7841\n",
            "Epoch 75/200\n",
            "34800/34800 [==============================] - 4s 112us/step - loss: 0.6698 - acc: 0.7841\n",
            "Epoch 76/200\n",
            "34800/34800 [==============================] - 4s 110us/step - loss: 0.6698 - acc: 0.7841\n",
            "Epoch 77/200\n",
            "34800/34800 [==============================] - 4s 109us/step - loss: 0.6699 - acc: 0.7841\n",
            "Epoch 78/200\n",
            "34800/34800 [==============================] - 4s 110us/step - loss: 0.6698 - acc: 0.7841\n",
            "Epoch 79/200\n",
            "34800/34800 [==============================] - 4s 110us/step - loss: 0.6699 - acc: 0.7841\n",
            "Epoch 80/200\n",
            "34800/34800 [==============================] - 4s 109us/step - loss: 0.6700 - acc: 0.7841\n",
            "Epoch 81/200\n",
            "34800/34800 [==============================] - 4s 109us/step - loss: 0.6697 - acc: 0.7841\n",
            "Epoch 82/200\n",
            "34800/34800 [==============================] - 4s 110us/step - loss: 0.6698 - acc: 0.7841\n",
            "Epoch 83/200\n",
            "34800/34800 [==============================] - 4s 112us/step - loss: 0.6700 - acc: 0.7841\n",
            "Epoch 84/200\n",
            "34800/34800 [==============================] - 4s 110us/step - loss: 0.6697 - acc: 0.7841\n",
            "Epoch 85/200\n",
            "34800/34800 [==============================] - 4s 110us/step - loss: 0.6697 - acc: 0.7841\n",
            "Epoch 86/200\n",
            "34800/34800 [==============================] - 4s 111us/step - loss: 0.6699 - acc: 0.7841\n",
            "Epoch 87/200\n",
            "34800/34800 [==============================] - 4s 112us/step - loss: 0.6699 - acc: 0.7841\n",
            "Epoch 88/200\n",
            "34800/34800 [==============================] - 4s 110us/step - loss: 0.6698 - acc: 0.7841\n",
            "Epoch 89/200\n",
            "34800/34800 [==============================] - 4s 112us/step - loss: 0.6698 - acc: 0.7841\n",
            "Epoch 90/200\n",
            "34800/34800 [==============================] - 4s 113us/step - loss: 0.6697 - acc: 0.7841\n",
            "Epoch 91/200\n",
            "34800/34800 [==============================] - 4s 111us/step - loss: 0.6698 - acc: 0.7841\n",
            "Epoch 92/200\n",
            "34800/34800 [==============================] - 4s 111us/step - loss: 0.6697 - acc: 0.7841\n",
            "Epoch 93/200\n",
            "34800/34800 [==============================] - 4s 109us/step - loss: 0.6699 - acc: 0.7841\n",
            "Epoch 94/200\n",
            "34800/34800 [==============================] - 4s 111us/step - loss: 0.6696 - acc: 0.7841\n",
            "Epoch 95/200\n",
            "34800/34800 [==============================] - 4s 111us/step - loss: 0.6698 - acc: 0.7841\n",
            "Epoch 96/200\n",
            "34800/34800 [==============================] - 4s 109us/step - loss: 0.6698 - acc: 0.7841\n",
            "Epoch 97/200\n",
            "34800/34800 [==============================] - 4s 107us/step - loss: 0.6700 - acc: 0.7841\n",
            "Epoch 98/200\n",
            "34800/34800 [==============================] - 4s 108us/step - loss: 0.6697 - acc: 0.7841\n",
            "Epoch 99/200\n",
            "34800/34800 [==============================] - 4s 111us/step - loss: 0.6698 - acc: 0.7841\n",
            "Epoch 100/200\n",
            "34800/34800 [==============================] - 4s 108us/step - loss: 0.6700 - acc: 0.7841\n",
            "Epoch 101/200\n",
            "34800/34800 [==============================] - 4s 112us/step - loss: 0.6697 - acc: 0.7841\n",
            "Epoch 102/200\n",
            "34800/34800 [==============================] - 4s 122us/step - loss: 0.6697 - acc: 0.7841\n",
            "Epoch 103/200\n",
            "34800/34800 [==============================] - 4s 122us/step - loss: 0.6698 - acc: 0.7841\n",
            "Epoch 104/200\n",
            "34800/34800 [==============================] - 4s 112us/step - loss: 0.6698 - acc: 0.7841\n",
            "Epoch 105/200\n",
            "34800/34800 [==============================] - 4s 114us/step - loss: 0.6697 - acc: 0.7841\n",
            "Epoch 106/200\n",
            "34800/34800 [==============================] - 4s 112us/step - loss: 0.6698 - acc: 0.7841\n",
            "Epoch 107/200\n",
            "34800/34800 [==============================] - 4s 109us/step - loss: 0.6697 - acc: 0.7841\n",
            "Epoch 108/200\n",
            "34800/34800 [==============================] - 4s 109us/step - loss: 0.6698 - acc: 0.7841\n",
            "Epoch 109/200\n",
            "34800/34800 [==============================] - 4s 110us/step - loss: 0.6697 - acc: 0.7841\n",
            "Epoch 110/200\n",
            "34800/34800 [==============================] - 4s 110us/step - loss: 0.6698 - acc: 0.7841\n",
            "Epoch 111/200\n",
            "34800/34800 [==============================] - 4s 110us/step - loss: 0.6699 - acc: 0.7841\n",
            "Epoch 112/200\n",
            "34800/34800 [==============================] - 4s 108us/step - loss: 0.6698 - acc: 0.7841\n",
            "Epoch 113/200\n",
            "34800/34800 [==============================] - 4s 108us/step - loss: 0.6700 - acc: 0.7841\n",
            "Epoch 114/200\n",
            "34800/34800 [==============================] - 4s 112us/step - loss: 0.6698 - acc: 0.7841\n",
            "Epoch 115/200\n",
            "34800/34800 [==============================] - 4s 111us/step - loss: 0.6698 - acc: 0.7841\n",
            "Epoch 116/200\n",
            "34800/34800 [==============================] - 4s 110us/step - loss: 0.6697 - acc: 0.7841\n",
            "Epoch 117/200\n",
            "34800/34800 [==============================] - 4s 108us/step - loss: 0.6697 - acc: 0.7841\n",
            "Epoch 118/200\n",
            "34800/34800 [==============================] - 4s 112us/step - loss: 0.6696 - acc: 0.7841\n",
            "Epoch 119/200\n",
            "34800/34800 [==============================] - 4s 113us/step - loss: 0.6697 - acc: 0.7841\n",
            "Epoch 120/200\n",
            "34800/34800 [==============================] - 4s 111us/step - loss: 0.6698 - acc: 0.7841\n",
            "Epoch 121/200\n",
            "34800/34800 [==============================] - 4s 113us/step - loss: 0.6698 - acc: 0.7841\n",
            "Epoch 122/200\n",
            "34800/34800 [==============================] - 4s 111us/step - loss: 0.6697 - acc: 0.7841\n",
            "Epoch 123/200\n",
            "34800/34800 [==============================] - 4s 108us/step - loss: 0.6697 - acc: 0.7841\n",
            "Epoch 124/200\n",
            "34800/34800 [==============================] - 4s 110us/step - loss: 0.6697 - acc: 0.7841\n",
            "Epoch 125/200\n",
            "34800/34800 [==============================] - 4s 111us/step - loss: 0.6696 - acc: 0.7841\n",
            "Epoch 126/200\n",
            "34800/34800 [==============================] - 4s 112us/step - loss: 0.6695 - acc: 0.7841\n",
            "Epoch 127/200\n",
            "34800/34800 [==============================] - 4s 111us/step - loss: 0.6698 - acc: 0.7841\n",
            "Epoch 128/200\n",
            "34800/34800 [==============================] - 4s 109us/step - loss: 0.6698 - acc: 0.7841\n",
            "Epoch 129/200\n",
            "34800/34800 [==============================] - 4s 113us/step - loss: 0.6697 - acc: 0.7841\n",
            "Epoch 130/200\n",
            "34800/34800 [==============================] - 4s 115us/step - loss: 0.6698 - acc: 0.7841\n",
            "Epoch 131/200\n",
            "34800/34800 [==============================] - 4s 108us/step - loss: 0.6697 - acc: 0.7841\n",
            "Epoch 132/200\n",
            "34800/34800 [==============================] - 4s 109us/step - loss: 0.6698 - acc: 0.7841\n",
            "Epoch 133/200\n",
            "34800/34800 [==============================] - 4s 109us/step - loss: 0.6698 - acc: 0.7841\n",
            "Epoch 134/200\n",
            "34800/34800 [==============================] - 4s 109us/step - loss: 0.6697 - acc: 0.7841\n",
            "Epoch 135/200\n",
            "34800/34800 [==============================] - 4s 114us/step - loss: 0.6696 - acc: 0.7841\n",
            "Epoch 136/200\n",
            "34800/34800 [==============================] - 4s 110us/step - loss: 0.6697 - acc: 0.7841\n",
            "Epoch 137/200\n",
            "34800/34800 [==============================] - 4s 111us/step - loss: 0.6698 - acc: 0.7841\n",
            "Epoch 138/200\n",
            "34800/34800 [==============================] - 4s 110us/step - loss: 0.6697 - acc: 0.7841\n",
            "Epoch 139/200\n",
            "34800/34800 [==============================] - 4s 109us/step - loss: 0.6696 - acc: 0.7841\n",
            "Epoch 140/200\n",
            "34800/34800 [==============================] - 4s 109us/step - loss: 0.6696 - acc: 0.7841\n",
            "Epoch 141/200\n",
            "34800/34800 [==============================] - 4s 108us/step - loss: 0.6697 - acc: 0.7841\n",
            "Epoch 142/200\n",
            "34800/34800 [==============================] - 4s 108us/step - loss: 0.6698 - acc: 0.7841\n",
            "Epoch 143/200\n",
            "34800/34800 [==============================] - 4s 109us/step - loss: 0.6697 - acc: 0.7841\n",
            "Epoch 144/200\n",
            "34800/34800 [==============================] - 4s 110us/step - loss: 0.6696 - acc: 0.7841\n",
            "Epoch 145/200\n",
            "34800/34800 [==============================] - 4s 109us/step - loss: 0.6696 - acc: 0.7841\n",
            "Epoch 146/200\n",
            "34800/34800 [==============================] - 4s 113us/step - loss: 0.6696 - acc: 0.7841\n",
            "Epoch 147/200\n",
            "34800/34800 [==============================] - 4s 112us/step - loss: 0.6697 - acc: 0.7841\n",
            "Epoch 148/200\n",
            "34800/34800 [==============================] - 4s 112us/step - loss: 0.6697 - acc: 0.7841\n",
            "Epoch 149/200\n",
            "34800/34800 [==============================] - 4s 110us/step - loss: 0.6698 - acc: 0.7841\n",
            "Epoch 150/200\n",
            "34800/34800 [==============================] - 4s 109us/step - loss: 0.6696 - acc: 0.7841\n",
            "Epoch 151/200\n",
            "34800/34800 [==============================] - 4s 113us/step - loss: 0.6697 - acc: 0.7841\n",
            "Epoch 152/200\n",
            "34800/34800 [==============================] - 4s 112us/step - loss: 0.6697 - acc: 0.7841\n",
            "Epoch 153/200\n",
            "34800/34800 [==============================] - 4s 109us/step - loss: 0.6697 - acc: 0.7841\n",
            "Epoch 154/200\n",
            "34800/34800 [==============================] - 4s 110us/step - loss: 0.6695 - acc: 0.7841\n",
            "Epoch 155/200\n",
            "34800/34800 [==============================] - 4s 108us/step - loss: 0.6697 - acc: 0.7841\n",
            "Epoch 156/200\n",
            "34800/34800 [==============================] - 4s 110us/step - loss: 0.6697 - acc: 0.7841\n",
            "Epoch 157/200\n",
            "34800/34800 [==============================] - 4s 109us/step - loss: 0.6696 - acc: 0.7841\n",
            "Epoch 158/200\n",
            "34800/34800 [==============================] - 4s 110us/step - loss: 0.6696 - acc: 0.7841\n",
            "Epoch 159/200\n",
            "34800/34800 [==============================] - 4s 109us/step - loss: 0.6697 - acc: 0.7841\n",
            "Epoch 160/200\n",
            "34800/34800 [==============================] - 4s 109us/step - loss: 0.6696 - acc: 0.7841\n",
            "Epoch 161/200\n",
            "34800/34800 [==============================] - 4s 113us/step - loss: 0.6696 - acc: 0.7841\n",
            "Epoch 162/200\n",
            "34800/34800 [==============================] - 4s 110us/step - loss: 0.6696 - acc: 0.7841\n",
            "Epoch 163/200\n",
            "34800/34800 [==============================] - 4s 109us/step - loss: 0.6695 - acc: 0.7841\n",
            "Epoch 164/200\n",
            "34800/34800 [==============================] - 4s 110us/step - loss: 0.6695 - acc: 0.7841\n",
            "Epoch 165/200\n",
            "34800/34800 [==============================] - 4s 109us/step - loss: 0.6696 - acc: 0.7841\n",
            "Epoch 166/200\n",
            "34800/34800 [==============================] - 4s 110us/step - loss: 0.6697 - acc: 0.7841\n",
            "Epoch 167/200\n",
            "34800/34800 [==============================] - 4s 112us/step - loss: 0.6696 - acc: 0.7841\n",
            "Epoch 168/200\n",
            "34800/34800 [==============================] - 4s 114us/step - loss: 0.6696 - acc: 0.7841\n",
            "Epoch 169/200\n",
            "34800/34800 [==============================] - 4s 113us/step - loss: 0.6695 - acc: 0.7841\n",
            "Epoch 170/200\n",
            "34800/34800 [==============================] - 4s 109us/step - loss: 0.6696 - acc: 0.7841\n",
            "Epoch 171/200\n",
            "34800/34800 [==============================] - 4s 109us/step - loss: 0.6696 - acc: 0.7841\n",
            "Epoch 172/200\n",
            "34800/34800 [==============================] - 4s 109us/step - loss: 0.6695 - acc: 0.7841\n",
            "Epoch 173/200\n",
            "34800/34800 [==============================] - 4s 109us/step - loss: 0.6697 - acc: 0.7841\n",
            "Epoch 174/200\n",
            "34800/34800 [==============================] - 4s 108us/step - loss: 0.6695 - acc: 0.7841\n",
            "Epoch 175/200\n",
            "34800/34800 [==============================] - 4s 108us/step - loss: 0.6696 - acc: 0.7841\n",
            "Epoch 176/200\n",
            "34800/34800 [==============================] - 4s 111us/step - loss: 0.6696 - acc: 0.7841\n",
            "Epoch 177/200\n",
            "34800/34800 [==============================] - 4s 113us/step - loss: 0.6695 - acc: 0.7841\n",
            "Epoch 178/200\n",
            "34800/34800 [==============================] - 4s 109us/step - loss: 0.6695 - acc: 0.7841\n",
            "Epoch 179/200\n",
            "34800/34800 [==============================] - 4s 110us/step - loss: 0.6696 - acc: 0.7841\n",
            "Epoch 180/200\n",
            "34800/34800 [==============================] - 4s 110us/step - loss: 0.6696 - acc: 0.7841\n",
            "Epoch 181/200\n",
            "34800/34800 [==============================] - 4s 110us/step - loss: 0.6695 - acc: 0.7841\n",
            "Epoch 182/200\n",
            "34800/34800 [==============================] - 4s 116us/step - loss: 0.6696 - acc: 0.7841\n",
            "Epoch 183/200\n",
            "34800/34800 [==============================] - 4s 122us/step - loss: 0.6695 - acc: 0.7841\n",
            "Epoch 184/200\n",
            "34800/34800 [==============================] - 4s 117us/step - loss: 0.6697 - acc: 0.7841\n",
            "Epoch 185/200\n",
            "34800/34800 [==============================] - 4s 113us/step - loss: 0.6695 - acc: 0.7841\n",
            "Epoch 186/200\n",
            "34800/34800 [==============================] - 4s 110us/step - loss: 0.6696 - acc: 0.7841\n",
            "Epoch 187/200\n",
            "34800/34800 [==============================] - 4s 107us/step - loss: 0.6696 - acc: 0.7841\n",
            "Epoch 188/200\n",
            "34800/34800 [==============================] - 4s 112us/step - loss: 0.6697 - acc: 0.7841\n",
            "Epoch 189/200\n",
            "34800/34800 [==============================] - 4s 112us/step - loss: 0.6696 - acc: 0.7841\n",
            "Epoch 190/200\n",
            "34800/34800 [==============================] - 4s 110us/step - loss: 0.6696 - acc: 0.7841\n",
            "Epoch 191/200\n",
            "34800/34800 [==============================] - 4s 108us/step - loss: 0.6695 - acc: 0.7841\n",
            "Epoch 192/200\n",
            "34800/34800 [==============================] - 4s 112us/step - loss: 0.6696 - acc: 0.7841\n",
            "Epoch 193/200\n",
            "34800/34800 [==============================] - 4s 111us/step - loss: 0.6696 - acc: 0.7841\n",
            "Epoch 194/200\n",
            "34800/34800 [==============================] - 4s 108us/step - loss: 0.6696 - acc: 0.7841\n",
            "Epoch 195/200\n",
            "34800/34800 [==============================] - 4s 109us/step - loss: 0.6696 - acc: 0.7841\n",
            "Epoch 196/200\n",
            "34800/34800 [==============================] - 4s 110us/step - loss: 0.6695 - acc: 0.7841\n",
            "Epoch 197/200\n",
            "34800/34800 [==============================] - 4s 110us/step - loss: 0.6696 - acc: 0.7841\n",
            "Epoch 198/200\n",
            "34800/34800 [==============================] - 4s 111us/step - loss: 0.6695 - acc: 0.7841\n",
            "Epoch 199/200\n",
            "34800/34800 [==============================] - 4s 111us/step - loss: 0.6696 - acc: 0.7841\n",
            "Epoch 200/200\n",
            "34800/34800 [==============================] - 4s 111us/step - loss: 0.6696 - acc: 0.7841\n"
          ],
          "name": "stdout"
        },
        {
          "output_type": "execute_result",
          "data": {
            "text/plain": [
              "<keras.callbacks.History at 0x7fdd1c140400>"
            ]
          },
          "metadata": {
            "tags": []
          },
          "execution_count": 37
        }
      ]
    },
    {
      "cell_type": "code",
      "metadata": {
        "id": "GJyy8iy5waN2",
        "colab_type": "code",
        "colab": {}
      },
      "source": [
        "predictions = model.predict_proba(test_normalized)\n",
        "predictions = list(predictions)"
      ],
      "execution_count": 0,
      "outputs": []
    },
    {
      "cell_type": "code",
      "metadata": {
        "id": "p9XeNsOVxZXQ",
        "colab_type": "code",
        "colab": {}
      },
      "source": [
        "predictions =np.asarray(predictions)"
      ],
      "execution_count": 0,
      "outputs": []
    },
    {
      "cell_type": "code",
      "metadata": {
        "id": "sRIicP6QWL4e",
        "colab_type": "code",
        "outputId": "ced3a420-9d9f-46c8-db19-4735b12adee2",
        "colab": {
          "base_uri": "https://localhost:8080/",
          "height": 34
        }
      },
      "source": [
        "print(predictions.shape)"
      ],
      "execution_count": 26,
      "outputs": [
        {
          "output_type": "stream",
          "text": [
            "(8700, 7)\n"
          ],
          "name": "stdout"
        }
      ]
    },
    {
      "cell_type": "code",
      "metadata": {
        "id": "-cCl-k4tWvNU",
        "colab_type": "code",
        "colab": {}
      },
      "source": [
        "names = ['THROTTLE HIGH','RAD','P1 BYPASSED','FPV OPENED','PRESSURE VALVE OPEN','CLOSED FPV','PRESSURE VALVE CLOSED']\n",
        "numpy.savetxt(\"res1.csv\", predictions,delimiter=\",\",header='THROTTLE HIGH,RAD,P1 BYPASSED,FPV OPENED,PRESSURE VALVE OPEN,CLOSED FPV,PRESSURE VALVE CLOSED')"
      ],
      "execution_count": 0,
      "outputs": []
    },
    {
      "cell_type": "code",
      "metadata": {
        "id": "a-2STNYkXzEk",
        "colab_type": "code",
        "colab": {}
      },
      "source": [
        ""
      ],
      "execution_count": 0,
      "outputs": []
    }
  ]
}