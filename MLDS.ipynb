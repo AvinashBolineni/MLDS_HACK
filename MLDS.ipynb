{
  "nbformat": 4,
  "nbformat_minor": 0,
  "metadata": {
    "colab": {
      "name": "Untitled47.ipynb",
      "provenance": [],
      "include_colab_link": true
    },
    "kernelspec": {
      "name": "python3",
      "display_name": "Python 3"
    },
    "accelerator": "GPU"
  },
  "cells": [
    {
      "cell_type": "markdown",
      "metadata": {
        "id": "view-in-github",
        "colab_type": "text"
      },
      "source": [
        "<a href=\"https://colab.research.google.com/github/mohanrajmit/MLDS_HACK/blob/master/MLDS.ipynb\" target=\"_parent\"><img src=\"https://colab.research.google.com/assets/colab-badge.svg\" alt=\"Open In Colab\"/></a>"
      ]
    },
    {
      "cell_type": "code",
      "metadata": {
        "id": "x6Dx0WExvsvG",
        "colab_type": "code",
        "outputId": "3b5b2676-9117-4a51-a3aa-ca879c154efb",
        "colab": {
          "base_uri": "https://localhost:8080/",
          "height": 80
        }
      },
      "source": [
        "from keras.models import Sequential\n",
        "from keras.layers import Dense\n",
        "import numpy"
      ],
      "execution_count": 2,
      "outputs": [
        {
          "output_type": "stream",
          "text": [
            "Using TensorFlow backend.\n"
          ],
          "name": "stderr"
        },
        {
          "output_type": "display_data",
          "data": {
            "text/html": [
              "<p style=\"color: red;\">\n",
              "The default version of TensorFlow in Colab will soon switch to TensorFlow 2.x.<br>\n",
              "We recommend you <a href=\"https://www.tensorflow.org/guide/migrate\" target=\"_blank\">upgrade</a> now \n",
              "or ensure your notebook will continue to use TensorFlow 1.x via the <code>%tensorflow_version 1.x</code> magic:\n",
              "<a href=\"https://colab.research.google.com/notebooks/tensorflow_version.ipynb\" target=\"_blank\">more info</a>.</p>\n"
            ],
            "text/plain": [
              "<IPython.core.display.HTML object>"
            ]
          },
          "metadata": {
            "tags": []
          }
        }
      ]
    },
    {
      "cell_type": "code",
      "metadata": {
        "id": "GpY1oyN9RHUU",
        "colab_type": "code",
        "outputId": "3c367eea-472a-4bc3-f6ac-bf540dee7cce",
        "colab": {
          "base_uri": "https://localhost:8080/",
          "height": 119
        }
      },
      "source": [
        "!git clone https://github.com/mohanrajmit/MLDS_HACK.git"
      ],
      "execution_count": 3,
      "outputs": [
        {
          "output_type": "stream",
          "text": [
            "Cloning into 'MLDS_HACK'...\n",
            "remote: Enumerating objects: 7, done.\u001b[K\n",
            "remote: Counting objects:  14% (1/7)\u001b[K\rremote: Counting objects:  28% (2/7)\u001b[K\rremote: Counting objects:  42% (3/7)\u001b[K\rremote: Counting objects:  57% (4/7)\u001b[K\rremote: Counting objects:  71% (5/7)\u001b[K\rremote: Counting objects:  85% (6/7)\u001b[K\rremote: Counting objects: 100% (7/7)\u001b[K\rremote: Counting objects: 100% (7/7), done.\u001b[K\n",
            "remote: Compressing objects:  20% (1/5)\u001b[K\rremote: Compressing objects:  40% (2/5)\u001b[K\rremote: Compressing objects:  60% (3/5)\u001b[K\rremote: Compressing objects:  80% (4/5)\u001b[K\rremote: Compressing objects: 100% (5/5)\u001b[K\rremote: Compressing objects: 100% (5/5), done.\u001b[K\n",
            "Unpacking objects:  14% (1/7)   \rUnpacking objects:  28% (2/7)   \rUnpacking objects:  42% (3/7)   \rUnpacking objects:  57% (4/7)   \rremote: Total 7 (delta 0), reused 0 (delta 0), pack-reused 0\u001b[K\n",
            "Unpacking objects:  71% (5/7)   \rUnpacking objects:  85% (6/7)   \rUnpacking objects: 100% (7/7)   \rUnpacking objects: 100% (7/7), done.\n"
          ],
          "name": "stdout"
        }
      ]
    },
    {
      "cell_type": "code",
      "metadata": {
        "id": "ToPr6CGcwA7t",
        "colab_type": "code",
        "colab": {
          "base_uri": "https://localhost:8080/",
          "height": 34
        },
        "outputId": "6eb1901c-dd81-43bf-9fe5-45de33d2aaff"
      },
      "source": [
        "from pandas import read_csv\n",
        "filename = '/content/MLDS_HACK/Data_Train.csv'\n",
        "#names = ['F_1', 'F_3', 'F_5', 'F_7', 'F_6', 'F_8','Labels']\n",
        "train_data = read_csv(filename)\n",
        "print(train_data.shape)"
      ],
      "execution_count": 4,
      "outputs": [
        {
          "output_type": "stream",
          "text": [
            "(34800, 7)\n"
          ],
          "name": "stdout"
        }
      ]
    },
    {
      "cell_type": "code",
      "metadata": {
        "id": "p-qKPLxFmBi4",
        "colab_type": "code",
        "colab": {
          "base_uri": "https://localhost:8080/",
          "height": 204
        },
        "outputId": "821141c8-e971-47bf-a795-f008ec4f4402"
      },
      "source": [
        "train_data.head()"
      ],
      "execution_count": 5,
      "outputs": [
        {
          "output_type": "execute_result",
          "data": {
            "text/html": [
              "<div>\n",
              "<style scoped>\n",
              "    .dataframe tbody tr th:only-of-type {\n",
              "        vertical-align: middle;\n",
              "    }\n",
              "\n",
              "    .dataframe tbody tr th {\n",
              "        vertical-align: top;\n",
              "    }\n",
              "\n",
              "    .dataframe thead th {\n",
              "        text-align: right;\n",
              "    }\n",
              "</style>\n",
              "<table border=\"1\" class=\"dataframe\">\n",
              "  <thead>\n",
              "    <tr style=\"text-align: right;\">\n",
              "      <th></th>\n",
              "      <th>F_1</th>\n",
              "      <th>F_3</th>\n",
              "      <th>F_5</th>\n",
              "      <th>F_7</th>\n",
              "      <th>F_6</th>\n",
              "      <th>F_8</th>\n",
              "      <th>Labels</th>\n",
              "    </tr>\n",
              "  </thead>\n",
              "  <tbody>\n",
              "    <tr>\n",
              "      <th>0</th>\n",
              "      <td>0.0</td>\n",
              "      <td>2.0</td>\n",
              "      <td>0.0</td>\n",
              "      <td>39.0</td>\n",
              "      <td>39.0</td>\n",
              "      <td>2.0</td>\n",
              "      <td>1.0</td>\n",
              "    </tr>\n",
              "    <tr>\n",
              "      <th>1</th>\n",
              "      <td>3.0</td>\n",
              "      <td>0.0</td>\n",
              "      <td>-16.0</td>\n",
              "      <td>39.0</td>\n",
              "      <td>39.0</td>\n",
              "      <td>0.0</td>\n",
              "      <td>5.0</td>\n",
              "    </tr>\n",
              "    <tr>\n",
              "      <th>2</th>\n",
              "      <td>0.0</td>\n",
              "      <td>0.0</td>\n",
              "      <td>16.0</td>\n",
              "      <td>39.0</td>\n",
              "      <td>39.0</td>\n",
              "      <td>0.0</td>\n",
              "      <td>1.0</td>\n",
              "    </tr>\n",
              "    <tr>\n",
              "      <th>3</th>\n",
              "      <td>1.0</td>\n",
              "      <td>0.0</td>\n",
              "      <td>4.0</td>\n",
              "      <td>37.0</td>\n",
              "      <td>37.0</td>\n",
              "      <td>0.0</td>\n",
              "      <td>1.0</td>\n",
              "    </tr>\n",
              "    <tr>\n",
              "      <th>4</th>\n",
              "      <td>0.0</td>\n",
              "      <td>0.0</td>\n",
              "      <td>17.0</td>\n",
              "      <td>67.0</td>\n",
              "      <td>67.0</td>\n",
              "      <td>0.0</td>\n",
              "      <td>1.0</td>\n",
              "    </tr>\n",
              "  </tbody>\n",
              "</table>\n",
              "</div>"
            ],
            "text/plain": [
              "   F_1  F_3   F_5   F_7   F_6  F_8  Labels\n",
              "0  0.0  2.0   0.0  39.0  39.0  2.0     1.0\n",
              "1  3.0  0.0 -16.0  39.0  39.0  0.0     5.0\n",
              "2  0.0  0.0  16.0  39.0  39.0  0.0     1.0\n",
              "3  1.0  0.0   4.0  37.0  37.0  0.0     1.0\n",
              "4  0.0  0.0  17.0  67.0  67.0  0.0     1.0"
            ]
          },
          "metadata": {
            "tags": []
          },
          "execution_count": 5
        }
      ]
    },
    {
      "cell_type": "code",
      "metadata": {
        "id": "08smXjm3tV76",
        "colab_type": "code",
        "colab": {
          "base_uri": "https://localhost:8080/",
          "height": 170
        },
        "outputId": "fbcb430f-c557-40d4-ee2c-5e6913ef05c3"
      },
      "source": [
        "class_counts = train_data.groupby('Labels').size()\n",
        "print(class_counts)"
      ],
      "execution_count": 6,
      "outputs": [
        {
          "output_type": "stream",
          "text": [
            "Labels\n",
            "1.0    27286\n",
            "2.0       30\n",
            "3.0      106\n",
            "4.0     5398\n",
            "5.0     1966\n",
            "6.0        5\n",
            "7.0        9\n",
            "dtype: int64\n"
          ],
          "name": "stdout"
        }
      ]
    },
    {
      "cell_type": "code",
      "metadata": {
        "id": "oa8aekf3rzJo",
        "colab_type": "code",
        "colab": {}
      },
      "source": [
        "import numpy as np\n",
        "train_data = np.asarray(train_data)"
      ],
      "execution_count": 0,
      "outputs": []
    },
    {
      "cell_type": "code",
      "metadata": {
        "id": "qanIWQP2sN2s",
        "colab_type": "code",
        "colab": {}
      },
      "source": [
        "#train_data1=trao\n",
        "train_data1 = train_data[:,0:6]\n",
        "train_labels = train_data[:,6]"
      ],
      "execution_count": 0,
      "outputs": []
    },
    {
      "cell_type": "code",
      "metadata": {
        "id": "XeQzx3TI4fnO",
        "colab_type": "code",
        "colab": {}
      },
      "source": [
        "train_labels =train_labels.astype(np.int32)"
      ],
      "execution_count": 0,
      "outputs": []
    },
    {
      "cell_type": "code",
      "metadata": {
        "id": "fW4uLchQsgKu",
        "colab_type": "code",
        "colab": {
          "base_uri": "https://localhost:8080/",
          "height": 51
        },
        "outputId": "9f92fbd8-1989-480d-9c87-8423157e7652"
      },
      "source": [
        "print(train_data1[0])\n",
        "print(train_labels[0])"
      ],
      "execution_count": 10,
      "outputs": [
        {
          "output_type": "stream",
          "text": [
            "[ 0.  2.  0. 39. 39.  2.]\n",
            "1\n"
          ],
          "name": "stdout"
        }
      ]
    },
    {
      "cell_type": "code",
      "metadata": {
        "id": "pg85vIP3lmH7",
        "colab_type": "code",
        "colab": {
          "base_uri": "https://localhost:8080/",
          "height": 34
        },
        "outputId": "8781b83f-59e4-46f9-b6e1-2fb7cf0f720a"
      },
      "source": [
        "test_filename = '/content/MLDS_HACK/Data_Test.csv'\n",
        "#test_names = ['F_1', 'F_3', 'F_5', 'F_7', 'F_6', 'F_8']\n",
        "test_data = read_csv(test_filename)\n",
        "print(test_data.shape)"
      ],
      "execution_count": 11,
      "outputs": [
        {
          "output_type": "stream",
          "text": [
            "(8700, 6)\n"
          ],
          "name": "stdout"
        }
      ]
    },
    {
      "cell_type": "code",
      "metadata": {
        "id": "MZ9x-rhqoRma",
        "colab_type": "code",
        "colab": {
          "base_uri": "https://localhost:8080/",
          "height": 204
        },
        "outputId": "ca775cdd-66a3-48b7-a6d5-714f00e29baa"
      },
      "source": [
        "test_data.head()"
      ],
      "execution_count": 12,
      "outputs": [
        {
          "output_type": "execute_result",
          "data": {
            "text/html": [
              "<div>\n",
              "<style scoped>\n",
              "    .dataframe tbody tr th:only-of-type {\n",
              "        vertical-align: middle;\n",
              "    }\n",
              "\n",
              "    .dataframe tbody tr th {\n",
              "        vertical-align: top;\n",
              "    }\n",
              "\n",
              "    .dataframe thead th {\n",
              "        text-align: right;\n",
              "    }\n",
              "</style>\n",
              "<table border=\"1\" class=\"dataframe\">\n",
              "  <thead>\n",
              "    <tr style=\"text-align: right;\">\n",
              "      <th></th>\n",
              "      <th>F_1</th>\n",
              "      <th>F_3</th>\n",
              "      <th>F_5</th>\n",
              "      <th>F_7</th>\n",
              "      <th>F_6</th>\n",
              "      <th>F_8</th>\n",
              "    </tr>\n",
              "  </thead>\n",
              "  <tbody>\n",
              "    <tr>\n",
              "      <th>0</th>\n",
              "      <td>2.0</td>\n",
              "      <td>-5.0</td>\n",
              "      <td>7.0</td>\n",
              "      <td>35.0</td>\n",
              "      <td>35.0</td>\n",
              "      <td>-5.0</td>\n",
              "    </tr>\n",
              "    <tr>\n",
              "      <th>1</th>\n",
              "      <td>0.0</td>\n",
              "      <td>0.0</td>\n",
              "      <td>-30.0</td>\n",
              "      <td>78.0</td>\n",
              "      <td>78.0</td>\n",
              "      <td>0.0</td>\n",
              "    </tr>\n",
              "    <tr>\n",
              "      <th>2</th>\n",
              "      <td>0.0</td>\n",
              "      <td>6.0</td>\n",
              "      <td>23.0</td>\n",
              "      <td>42.0</td>\n",
              "      <td>42.0</td>\n",
              "      <td>6.0</td>\n",
              "    </tr>\n",
              "    <tr>\n",
              "      <th>3</th>\n",
              "      <td>-1.0</td>\n",
              "      <td>-5.0</td>\n",
              "      <td>0.0</td>\n",
              "      <td>28.0</td>\n",
              "      <td>28.0</td>\n",
              "      <td>-5.0</td>\n",
              "    </tr>\n",
              "    <tr>\n",
              "      <th>4</th>\n",
              "      <td>-5.0</td>\n",
              "      <td>1.0</td>\n",
              "      <td>1.0</td>\n",
              "      <td>28.0</td>\n",
              "      <td>28.0</td>\n",
              "      <td>1.0</td>\n",
              "    </tr>\n",
              "  </tbody>\n",
              "</table>\n",
              "</div>"
            ],
            "text/plain": [
              "   F_1  F_3   F_5   F_7   F_6  F_8\n",
              "0  2.0 -5.0   7.0  35.0  35.0 -5.0\n",
              "1  0.0  0.0 -30.0  78.0  78.0  0.0\n",
              "2  0.0  6.0  23.0  42.0  42.0  6.0\n",
              "3 -1.0 -5.0   0.0  28.0  28.0 -5.0\n",
              "4 -5.0  1.0   1.0  28.0  28.0  1.0"
            ]
          },
          "metadata": {
            "tags": []
          },
          "execution_count": 12
        }
      ]
    },
    {
      "cell_type": "code",
      "metadata": {
        "id": "TwvMtMSN1Fke",
        "colab_type": "code",
        "colab": {
          "base_uri": "https://localhost:8080/",
          "height": 34
        },
        "outputId": "1c477f6a-3c72-4f1b-dcdd-08743608b9c0"
      },
      "source": [
        "print(train_labels.shape)"
      ],
      "execution_count": 13,
      "outputs": [
        {
          "output_type": "stream",
          "text": [
            "(34800,)\n"
          ],
          "name": "stdout"
        }
      ]
    },
    {
      "cell_type": "code",
      "metadata": {
        "id": "KnWyRQzy1zYU",
        "colab_type": "code",
        "colab": {
          "base_uri": "https://localhost:8080/",
          "height": 34
        },
        "outputId": "826ad039-67bb-4757-94cf-7d41d18fbae8"
      },
      "source": [
        "print(train_labels[0])"
      ],
      "execution_count": 14,
      "outputs": [
        {
          "output_type": "stream",
          "text": [
            "1\n"
          ],
          "name": "stdout"
        }
      ]
    },
    {
      "cell_type": "code",
      "metadata": {
        "id": "ozJX-cVo5VEK",
        "colab_type": "code",
        "colab": {}
      },
      "source": [
        "train_labels_final=[]\n",
        "for row in train_labels:\n",
        "  train_labels_final.append(row-1)"
      ],
      "execution_count": 0,
      "outputs": []
    },
    {
      "cell_type": "code",
      "metadata": {
        "id": "_Ew6F7TYuBTk",
        "colab_type": "code",
        "colab": {}
      },
      "source": [
        "from keras.utils import np_utils\n",
        "number_of_classes = 7\n",
        "\n",
        "Y_train = np_utils.to_categorical(train_labels_final, number_of_classes,dtype=np.float32)"
      ],
      "execution_count": 0,
      "outputs": []
    },
    {
      "cell_type": "code",
      "metadata": {
        "id": "j7bE6Et98oaA",
        "colab_type": "code",
        "colab": {
          "base_uri": "https://localhost:8080/",
          "height": 34
        },
        "outputId": "3ed90609-9f50-43d3-d293-3e9454f40cdc"
      },
      "source": [
        "print(Y_train[0])"
      ],
      "execution_count": 17,
      "outputs": [
        {
          "output_type": "stream",
          "text": [
            "[1. 0. 0. 0. 0. 0. 0.]\n"
          ],
          "name": "stdout"
        }
      ]
    },
    {
      "cell_type": "markdown",
      "metadata": {
        "id": "cTGz83SSwCCL",
        "colab_type": "text"
      },
      "source": [
        "#pima indian dataset\n"
      ]
    },
    {
      "cell_type": "code",
      "metadata": {
        "id": "ICmWK70QwFVN",
        "colab_type": "code",
        "outputId": "05aac5ae-fc5d-4e3c-815b-64bd55f9ab1c",
        "colab": {
          "base_uri": "https://localhost:8080/",
          "height": 275
        }
      },
      "source": [
        "# create model\n",
        "model = Sequential()\n",
        "model.add(Dense(12, input_dim=6, init='uniform', activation='relu'))\n",
        "model.add(Dense(8, init='uniform', activation='relu'))\n",
        "model.add(Dense(8, init='uniform', activation='relu'))\n",
        "model.add(Dense(7, init='uniform', activation='softmax'))\n",
        "# Compile model"
      ],
      "execution_count": 18,
      "outputs": [
        {
          "output_type": "stream",
          "text": [
            "WARNING:tensorflow:From /usr/local/lib/python3.6/dist-packages/keras/backend/tensorflow_backend.py:66: The name tf.get_default_graph is deprecated. Please use tf.compat.v1.get_default_graph instead.\n",
            "\n",
            "WARNING:tensorflow:From /usr/local/lib/python3.6/dist-packages/keras/backend/tensorflow_backend.py:541: The name tf.placeholder is deprecated. Please use tf.compat.v1.placeholder instead.\n",
            "\n",
            "WARNING:tensorflow:From /usr/local/lib/python3.6/dist-packages/keras/backend/tensorflow_backend.py:4432: The name tf.random_uniform is deprecated. Please use tf.random.uniform instead.\n",
            "\n"
          ],
          "name": "stdout"
        },
        {
          "output_type": "stream",
          "text": [
            "/usr/local/lib/python3.6/dist-packages/ipykernel_launcher.py:2: UserWarning: Update your `Dense` call to the Keras 2 API: `Dense(12, input_dim=6, activation=\"relu\", kernel_initializer=\"uniform\")`\n",
            "  \n",
            "/usr/local/lib/python3.6/dist-packages/ipykernel_launcher.py:3: UserWarning: Update your `Dense` call to the Keras 2 API: `Dense(8, activation=\"relu\", kernel_initializer=\"uniform\")`\n",
            "  This is separate from the ipykernel package so we can avoid doing imports until\n",
            "/usr/local/lib/python3.6/dist-packages/ipykernel_launcher.py:4: UserWarning: Update your `Dense` call to the Keras 2 API: `Dense(8, activation=\"relu\", kernel_initializer=\"uniform\")`\n",
            "  after removing the cwd from sys.path.\n",
            "/usr/local/lib/python3.6/dist-packages/ipykernel_launcher.py:5: UserWarning: Update your `Dense` call to the Keras 2 API: `Dense(7, activation=\"softmax\", kernel_initializer=\"uniform\")`\n",
            "  \"\"\"\n"
          ],
          "name": "stderr"
        }
      ]
    },
    {
      "cell_type": "code",
      "metadata": {
        "id": "RewK5Qe6wRSQ",
        "colab_type": "code",
        "colab": {
          "base_uri": "https://localhost:8080/",
          "height": 85
        },
        "outputId": "b03cefcf-5c57-4a07-f44c-38d9483277f3"
      },
      "source": [
        "model.compile(loss='categorical_crossentropy', optimizer='adam', metrics=['accuracy'])\n"
      ],
      "execution_count": 19,
      "outputs": [
        {
          "output_type": "stream",
          "text": [
            "WARNING:tensorflow:From /usr/local/lib/python3.6/dist-packages/keras/optimizers.py:793: The name tf.train.Optimizer is deprecated. Please use tf.compat.v1.train.Optimizer instead.\n",
            "\n",
            "WARNING:tensorflow:From /usr/local/lib/python3.6/dist-packages/keras/backend/tensorflow_backend.py:3576: The name tf.log is deprecated. Please use tf.math.log instead.\n",
            "\n"
          ],
          "name": "stdout"
        }
      ]
    },
    {
      "cell_type": "code",
      "metadata": {
        "id": "M3yzz9HlwUTl",
        "colab_type": "code",
        "outputId": "2cc77340-6dfc-48ff-f960-9e16243e7c5f",
        "colab": {
          "base_uri": "https://localhost:8080/",
          "height": 289
        }
      },
      "source": [
        "model.summary()"
      ],
      "execution_count": 20,
      "outputs": [
        {
          "output_type": "stream",
          "text": [
            "Model: \"sequential_1\"\n",
            "_________________________________________________________________\n",
            "Layer (type)                 Output Shape              Param #   \n",
            "=================================================================\n",
            "dense_1 (Dense)              (None, 12)                84        \n",
            "_________________________________________________________________\n",
            "dense_2 (Dense)              (None, 8)                 104       \n",
            "_________________________________________________________________\n",
            "dense_3 (Dense)              (None, 8)                 72        \n",
            "_________________________________________________________________\n",
            "dense_4 (Dense)              (None, 7)                 63        \n",
            "=================================================================\n",
            "Total params: 323\n",
            "Trainable params: 323\n",
            "Non-trainable params: 0\n",
            "_________________________________________________________________\n"
          ],
          "name": "stdout"
        }
      ]
    },
    {
      "cell_type": "code",
      "metadata": {
        "id": "FO2flHhEwV7k",
        "colab_type": "code",
        "outputId": "92267f16-68c7-4784-ec01-2c136787bc0d",
        "colab": {
          "base_uri": "https://localhost:8080/",
          "height": 1000
        }
      },
      "source": [
        "# Fit the model\n",
        "model.fit(train_data1, Y_train, nb_epoch=200, batch_size=None)\n"
      ],
      "execution_count": 21,
      "outputs": [
        {
          "output_type": "stream",
          "text": [
            "WARNING:tensorflow:From /usr/local/lib/python3.6/dist-packages/tensorflow_core/python/ops/math_grad.py:1424: where (from tensorflow.python.ops.array_ops) is deprecated and will be removed in a future version.\n",
            "Instructions for updating:\n",
            "Use tf.where in 2.0, which has the same broadcast rule as np.where\n",
            "WARNING:tensorflow:From /usr/local/lib/python3.6/dist-packages/keras/backend/tensorflow_backend.py:1033: The name tf.assign_add is deprecated. Please use tf.compat.v1.assign_add instead.\n",
            "\n"
          ],
          "name": "stdout"
        },
        {
          "output_type": "stream",
          "text": [
            "/usr/local/lib/python3.6/dist-packages/ipykernel_launcher.py:1: UserWarning: The `nb_epoch` argument in `fit` has been renamed `epochs`.\n",
            "  \"\"\"Entry point for launching an IPython kernel.\n"
          ],
          "name": "stderr"
        },
        {
          "output_type": "stream",
          "text": [
            "WARNING:tensorflow:From /usr/local/lib/python3.6/dist-packages/keras/backend/tensorflow_backend.py:1020: The name tf.assign is deprecated. Please use tf.compat.v1.assign instead.\n",
            "\n",
            "WARNING:tensorflow:From /usr/local/lib/python3.6/dist-packages/keras/backend/tensorflow_backend.py:3005: The name tf.Session is deprecated. Please use tf.compat.v1.Session instead.\n",
            "\n",
            "Epoch 1/200\n",
            "WARNING:tensorflow:From /usr/local/lib/python3.6/dist-packages/keras/backend/tensorflow_backend.py:190: The name tf.get_default_session is deprecated. Please use tf.compat.v1.get_default_session instead.\n",
            "\n",
            "WARNING:tensorflow:From /usr/local/lib/python3.6/dist-packages/keras/backend/tensorflow_backend.py:197: The name tf.ConfigProto is deprecated. Please use tf.compat.v1.ConfigProto instead.\n",
            "\n",
            "WARNING:tensorflow:From /usr/local/lib/python3.6/dist-packages/keras/backend/tensorflow_backend.py:207: The name tf.global_variables is deprecated. Please use tf.compat.v1.global_variables instead.\n",
            "\n",
            "WARNING:tensorflow:From /usr/local/lib/python3.6/dist-packages/keras/backend/tensorflow_backend.py:216: The name tf.is_variable_initialized is deprecated. Please use tf.compat.v1.is_variable_initialized instead.\n",
            "\n",
            "WARNING:tensorflow:From /usr/local/lib/python3.6/dist-packages/keras/backend/tensorflow_backend.py:223: The name tf.variables_initializer is deprecated. Please use tf.compat.v1.variables_initializer instead.\n",
            "\n",
            "34800/34800 [==============================] - 14s 407us/step - loss: 0.7729 - acc: 0.7833\n",
            "Epoch 2/200\n",
            "34800/34800 [==============================] - 4s 128us/step - loss: 0.6907 - acc: 0.7841\n",
            "Epoch 3/200\n",
            "34800/34800 [==============================] - 5s 134us/step - loss: 0.6800 - acc: 0.7841\n",
            "Epoch 4/200\n",
            "34800/34800 [==============================] - 4s 124us/step - loss: 0.6742 - acc: 0.7841\n",
            "Epoch 5/200\n",
            "34800/34800 [==============================] - 4s 129us/step - loss: 0.6716 - acc: 0.7841\n",
            "Epoch 6/200\n",
            "34800/34800 [==============================] - 5s 135us/step - loss: 0.6706 - acc: 0.7841\n",
            "Epoch 7/200\n",
            "34800/34800 [==============================] - 4s 128us/step - loss: 0.6703 - acc: 0.7841\n",
            "Epoch 8/200\n",
            "34800/34800 [==============================] - 5s 134us/step - loss: 0.6703 - acc: 0.7841\n",
            "Epoch 9/200\n",
            "34800/34800 [==============================] - 5s 136us/step - loss: 0.6699 - acc: 0.7841\n",
            "Epoch 10/200\n",
            "34800/34800 [==============================] - 5s 139us/step - loss: 0.6700 - acc: 0.7841\n",
            "Epoch 11/200\n",
            "34800/34800 [==============================] - 5s 134us/step - loss: 0.6699 - acc: 0.7841\n",
            "Epoch 12/200\n",
            "34800/34800 [==============================] - 5s 136us/step - loss: 0.6698 - acc: 0.7841\n",
            "Epoch 13/200\n",
            "34800/34800 [==============================] - 5s 129us/step - loss: 0.6699 - acc: 0.7841\n",
            "Epoch 14/200\n",
            "34800/34800 [==============================] - 4s 129us/step - loss: 0.6699 - acc: 0.7841\n",
            "Epoch 15/200\n",
            "34800/34800 [==============================] - 5s 129us/step - loss: 0.6701 - acc: 0.7841\n",
            "Epoch 16/200\n",
            "34800/34800 [==============================] - 5s 133us/step - loss: 0.6698 - acc: 0.7841\n",
            "Epoch 17/200\n",
            "34800/34800 [==============================] - 4s 119us/step - loss: 0.6699 - acc: 0.7841\n",
            "Epoch 18/200\n",
            "34800/34800 [==============================] - 5s 133us/step - loss: 0.6699 - acc: 0.7840\n",
            "Epoch 19/200\n",
            "34800/34800 [==============================] - 4s 118us/step - loss: 0.6698 - acc: 0.7841\n",
            "Epoch 20/200\n",
            "34800/34800 [==============================] - 4s 119us/step - loss: 0.6697 - acc: 0.7841\n",
            "Epoch 21/200\n",
            "34800/34800 [==============================] - 4s 118us/step - loss: 0.6697 - acc: 0.7841\n",
            "Epoch 22/200\n",
            "34800/34800 [==============================] - 4s 116us/step - loss: 0.6697 - acc: 0.7841\n",
            "Epoch 23/200\n",
            "34800/34800 [==============================] - 4s 120us/step - loss: 0.6697 - acc: 0.7841\n",
            "Epoch 24/200\n",
            "34800/34800 [==============================] - 4s 122us/step - loss: 0.6698 - acc: 0.7841\n",
            "Epoch 25/200\n",
            "34800/34800 [==============================] - 5s 134us/step - loss: 0.6696 - acc: 0.7841\n",
            "Epoch 26/200\n",
            "34800/34800 [==============================] - 5s 132us/step - loss: 0.6697 - acc: 0.7841\n",
            "Epoch 27/200\n",
            "34800/34800 [==============================] - 4s 117us/step - loss: 0.6695 - acc: 0.7841\n",
            "Epoch 28/200\n",
            "34800/34800 [==============================] - 4s 113us/step - loss: 0.6695 - acc: 0.7841\n",
            "Epoch 29/200\n",
            "34800/34800 [==============================] - 4s 114us/step - loss: 0.6697 - acc: 0.7841\n",
            "Epoch 30/200\n",
            "34800/34800 [==============================] - 4s 123us/step - loss: 0.6696 - acc: 0.7841\n",
            "Epoch 31/200\n",
            "34800/34800 [==============================] - 4s 115us/step - loss: 0.6696 - acc: 0.7841\n",
            "Epoch 32/200\n",
            "34800/34800 [==============================] - 4s 118us/step - loss: 0.6696 - acc: 0.7841\n",
            "Epoch 33/200\n",
            "34800/34800 [==============================] - 4s 126us/step - loss: 0.6696 - acc: 0.7841\n",
            "Epoch 34/200\n",
            "34800/34800 [==============================] - 4s 125us/step - loss: 0.6696 - acc: 0.7841\n",
            "Epoch 35/200\n",
            "34800/34800 [==============================] - 5s 132us/step - loss: 0.6695 - acc: 0.7841\n",
            "Epoch 36/200\n",
            "34800/34800 [==============================] - 5s 131us/step - loss: 0.6694 - acc: 0.7841\n",
            "Epoch 37/200\n",
            "34800/34800 [==============================] - 4s 123us/step - loss: 0.6694 - acc: 0.7841\n",
            "Epoch 38/200\n",
            "34800/34800 [==============================] - 4s 114us/step - loss: 0.6696 - acc: 0.7841\n",
            "Epoch 39/200\n",
            "34800/34800 [==============================] - 4s 114us/step - loss: 0.6696 - acc: 0.7841\n",
            "Epoch 40/200\n",
            "34800/34800 [==============================] - 4s 123us/step - loss: 0.6695 - acc: 0.7841\n",
            "Epoch 41/200\n",
            "34800/34800 [==============================] - 4s 120us/step - loss: 0.6696 - acc: 0.7841\n",
            "Epoch 42/200\n",
            "34800/34800 [==============================] - 4s 118us/step - loss: 0.6694 - acc: 0.7841\n",
            "Epoch 43/200\n",
            "34800/34800 [==============================] - 4s 119us/step - loss: 0.6695 - acc: 0.7840\n",
            "Epoch 44/200\n",
            "34800/34800 [==============================] - 4s 123us/step - loss: 0.6695 - acc: 0.7841\n",
            "Epoch 45/200\n",
            "34800/34800 [==============================] - 4s 126us/step - loss: 0.6694 - acc: 0.7841\n",
            "Epoch 46/200\n",
            "34800/34800 [==============================] - 4s 119us/step - loss: 0.6695 - acc: 0.7841\n",
            "Epoch 47/200\n",
            "34800/34800 [==============================] - 4s 124us/step - loss: 0.6694 - acc: 0.7841\n",
            "Epoch 48/200\n",
            "34800/34800 [==============================] - 4s 118us/step - loss: 0.6694 - acc: 0.7841\n",
            "Epoch 49/200\n",
            "34800/34800 [==============================] - 4s 121us/step - loss: 0.6695 - acc: 0.7841\n",
            "Epoch 50/200\n",
            "34800/34800 [==============================] - 4s 124us/step - loss: 0.6694 - acc: 0.7841\n",
            "Epoch 51/200\n",
            "34800/34800 [==============================] - 4s 125us/step - loss: 0.6693 - acc: 0.7841\n",
            "Epoch 52/200\n",
            "34800/34800 [==============================] - 4s 121us/step - loss: 0.6694 - acc: 0.7841\n",
            "Epoch 53/200\n",
            "34800/34800 [==============================] - 4s 123us/step - loss: 0.6692 - acc: 0.7841\n",
            "Epoch 54/200\n",
            "34800/34800 [==============================] - 4s 123us/step - loss: 0.6694 - acc: 0.7841\n",
            "Epoch 55/200\n",
            "34800/34800 [==============================] - 4s 115us/step - loss: 0.6693 - acc: 0.7840\n",
            "Epoch 56/200\n",
            "34800/34800 [==============================] - 4s 118us/step - loss: 0.6694 - acc: 0.7841\n",
            "Epoch 57/200\n",
            "34800/34800 [==============================] - 4s 119us/step - loss: 0.6694 - acc: 0.7840\n",
            "Epoch 58/200\n",
            "34800/34800 [==============================] - 4s 126us/step - loss: 0.6693 - acc: 0.7841\n",
            "Epoch 59/200\n",
            "34800/34800 [==============================] - 5s 130us/step - loss: 0.6694 - acc: 0.7841\n",
            "Epoch 60/200\n",
            "34800/34800 [==============================] - 4s 118us/step - loss: 0.6694 - acc: 0.7840\n",
            "Epoch 61/200\n",
            "34800/34800 [==============================] - 4s 119us/step - loss: 0.6694 - acc: 0.7841\n",
            "Epoch 62/200\n",
            "34800/34800 [==============================] - 4s 119us/step - loss: 0.6696 - acc: 0.7841\n",
            "Epoch 63/200\n",
            "34800/34800 [==============================] - 4s 117us/step - loss: 0.6695 - acc: 0.7841\n",
            "Epoch 64/200\n",
            "34800/34800 [==============================] - 4s 128us/step - loss: 0.6694 - acc: 0.7841\n",
            "Epoch 65/200\n",
            "34800/34800 [==============================] - 4s 121us/step - loss: 0.6694 - acc: 0.7841\n",
            "Epoch 66/200\n",
            "34800/34800 [==============================] - 4s 114us/step - loss: 0.6692 - acc: 0.7841\n",
            "Epoch 67/200\n",
            "34800/34800 [==============================] - 4s 115us/step - loss: 0.6693 - acc: 0.7841\n",
            "Epoch 68/200\n",
            "34800/34800 [==============================] - 4s 119us/step - loss: 0.6697 - acc: 0.7841\n",
            "Epoch 69/200\n",
            "34800/34800 [==============================] - 4s 125us/step - loss: 0.6693 - acc: 0.7841\n",
            "Epoch 70/200\n",
            "34800/34800 [==============================] - 4s 122us/step - loss: 0.6694 - acc: 0.7841\n",
            "Epoch 71/200\n",
            "34800/34800 [==============================] - 4s 118us/step - loss: 0.6692 - acc: 0.7841\n",
            "Epoch 72/200\n",
            "34800/34800 [==============================] - 4s 126us/step - loss: 0.6692 - acc: 0.7841\n",
            "Epoch 73/200\n",
            "34800/34800 [==============================] - 5s 136us/step - loss: 0.6694 - acc: 0.7840\n",
            "Epoch 74/200\n",
            "34800/34800 [==============================] - 4s 116us/step - loss: 0.6693 - acc: 0.7841\n",
            "Epoch 75/200\n",
            "34800/34800 [==============================] - 4s 119us/step - loss: 0.6693 - acc: 0.7841\n",
            "Epoch 76/200\n",
            "34800/34800 [==============================] - 4s 117us/step - loss: 0.6693 - acc: 0.7841\n",
            "Epoch 77/200\n",
            "34800/34800 [==============================] - 4s 119us/step - loss: 0.6693 - acc: 0.7841\n",
            "Epoch 78/200\n",
            "34800/34800 [==============================] - 4s 123us/step - loss: 0.6692 - acc: 0.7841\n",
            "Epoch 79/200\n",
            "34800/34800 [==============================] - 4s 123us/step - loss: 0.6692 - acc: 0.7841\n",
            "Epoch 80/200\n",
            "34800/34800 [==============================] - 4s 119us/step - loss: 0.6695 - acc: 0.7840\n",
            "Epoch 81/200\n",
            "34800/34800 [==============================] - 4s 119us/step - loss: 0.6692 - acc: 0.7841\n",
            "Epoch 82/200\n",
            "34800/34800 [==============================] - 4s 126us/step - loss: 0.6693 - acc: 0.7841\n",
            "Epoch 83/200\n",
            "34800/34800 [==============================] - 4s 121us/step - loss: 0.6694 - acc: 0.7841\n",
            "Epoch 84/200\n",
            "34800/34800 [==============================] - 4s 122us/step - loss: 0.6692 - acc: 0.7841\n",
            "Epoch 85/200\n",
            "34800/34800 [==============================] - 4s 127us/step - loss: 0.6691 - acc: 0.7841\n",
            "Epoch 86/200\n",
            "34800/34800 [==============================] - 4s 121us/step - loss: 0.6691 - acc: 0.7841\n",
            "Epoch 87/200\n",
            "34800/34800 [==============================] - 5s 138us/step - loss: 0.6694 - acc: 0.7841\n",
            "Epoch 88/200\n",
            "34800/34800 [==============================] - 4s 119us/step - loss: 0.6692 - acc: 0.7841\n",
            "Epoch 89/200\n",
            "34800/34800 [==============================] - 4s 123us/step - loss: 0.6694 - acc: 0.7841\n",
            "Epoch 90/200\n",
            "34800/34800 [==============================] - 4s 122us/step - loss: 0.6692 - acc: 0.7841\n",
            "Epoch 91/200\n",
            "34800/34800 [==============================] - 5s 130us/step - loss: 0.6692 - acc: 0.7840\n",
            "Epoch 92/200\n",
            "34800/34800 [==============================] - 4s 126us/step - loss: 0.6692 - acc: 0.7841\n",
            "Epoch 93/200\n",
            "34800/34800 [==============================] - 4s 121us/step - loss: 0.6691 - acc: 0.7841\n",
            "Epoch 94/200\n",
            "34800/34800 [==============================] - 5s 130us/step - loss: 0.6694 - acc: 0.7841\n",
            "Epoch 95/200\n",
            "34800/34800 [==============================] - 4s 129us/step - loss: 0.6691 - acc: 0.7841\n",
            "Epoch 96/200\n",
            "34800/34800 [==============================] - 4s 120us/step - loss: 0.6691 - acc: 0.7840\n",
            "Epoch 97/200\n",
            "34800/34800 [==============================] - 5s 130us/step - loss: 0.6690 - acc: 0.7841\n",
            "Epoch 98/200\n",
            "34800/34800 [==============================] - 4s 123us/step - loss: 0.6691 - acc: 0.7841\n",
            "Epoch 99/200\n",
            "34800/34800 [==============================] - 5s 130us/step - loss: 0.6693 - acc: 0.7841\n",
            "Epoch 100/200\n",
            "34800/34800 [==============================] - 4s 121us/step - loss: 0.6691 - acc: 0.7841\n",
            "Epoch 101/200\n",
            "34800/34800 [==============================] - 4s 122us/step - loss: 0.6694 - acc: 0.7841\n",
            "Epoch 102/200\n",
            "34800/34800 [==============================] - 4s 113us/step - loss: 0.6691 - acc: 0.7841\n",
            "Epoch 103/200\n",
            "34800/34800 [==============================] - 4s 119us/step - loss: 0.6691 - acc: 0.7841\n",
            "Epoch 104/200\n",
            "34800/34800 [==============================] - 4s 121us/step - loss: 0.6693 - acc: 0.7841\n",
            "Epoch 105/200\n",
            "34800/34800 [==============================] - 5s 131us/step - loss: 0.6691 - acc: 0.7841\n",
            "Epoch 106/200\n",
            "34800/34800 [==============================] - 5s 156us/step - loss: 0.6690 - acc: 0.7841\n",
            "Epoch 107/200\n",
            "34800/34800 [==============================] - 5s 131us/step - loss: 0.6690 - acc: 0.7841\n",
            "Epoch 108/200\n",
            "34800/34800 [==============================] - 5s 133us/step - loss: 0.6692 - acc: 0.7841\n",
            "Epoch 109/200\n",
            "34800/34800 [==============================] - 5s 130us/step - loss: 0.6692 - acc: 0.7840\n",
            "Epoch 110/200\n",
            "34800/34800 [==============================] - 5s 131us/step - loss: 0.6691 - acc: 0.7841\n",
            "Epoch 111/200\n",
            "34800/34800 [==============================] - 5s 137us/step - loss: 0.6691 - acc: 0.7841\n",
            "Epoch 112/200\n",
            "34800/34800 [==============================] - 4s 124us/step - loss: 0.6690 - acc: 0.7841\n",
            "Epoch 113/200\n",
            "34800/34800 [==============================] - 4s 127us/step - loss: 0.6692 - acc: 0.7841\n",
            "Epoch 114/200\n",
            "34800/34800 [==============================] - 4s 128us/step - loss: 0.6690 - acc: 0.7841\n",
            "Epoch 115/200\n",
            "34800/34800 [==============================] - 4s 121us/step - loss: 0.6690 - acc: 0.7841\n",
            "Epoch 116/200\n",
            "34800/34800 [==============================] - 4s 122us/step - loss: 0.6690 - acc: 0.7841\n",
            "Epoch 117/200\n",
            "34800/34800 [==============================] - 4s 121us/step - loss: 0.6691 - acc: 0.7841\n",
            "Epoch 118/200\n",
            "34800/34800 [==============================] - 4s 120us/step - loss: 0.6690 - acc: 0.7841\n",
            "Epoch 119/200\n",
            "34800/34800 [==============================] - 5s 129us/step - loss: 0.6691 - acc: 0.7840\n",
            "Epoch 120/200\n",
            "34800/34800 [==============================] - 5s 130us/step - loss: 0.6688 - acc: 0.7841\n",
            "Epoch 121/200\n",
            "34800/34800 [==============================] - 4s 126us/step - loss: 0.6690 - acc: 0.7840\n",
            "Epoch 122/200\n",
            "34800/34800 [==============================] - 4s 127us/step - loss: 0.6690 - acc: 0.7841\n",
            "Epoch 123/200\n",
            "34800/34800 [==============================] - 4s 124us/step - loss: 0.6689 - acc: 0.7841\n",
            "Epoch 124/200\n",
            "34800/34800 [==============================] - 4s 128us/step - loss: 0.6690 - acc: 0.7841\n",
            "Epoch 125/200\n",
            "34800/34800 [==============================] - 4s 125us/step - loss: 0.6688 - acc: 0.7841\n",
            "Epoch 126/200\n",
            "34800/34800 [==============================] - 4s 127us/step - loss: 0.6691 - acc: 0.7841\n",
            "Epoch 127/200\n",
            "34800/34800 [==============================] - 5s 130us/step - loss: 0.6688 - acc: 0.7841\n",
            "Epoch 128/200\n",
            "34800/34800 [==============================] - 5s 139us/step - loss: 0.6689 - acc: 0.7841\n",
            "Epoch 129/200\n",
            "34800/34800 [==============================] - 5s 132us/step - loss: 0.6688 - acc: 0.7841\n",
            "Epoch 130/200\n",
            "34800/34800 [==============================] - 5s 137us/step - loss: 0.6689 - acc: 0.7841\n",
            "Epoch 131/200\n",
            "34800/34800 [==============================] - 4s 127us/step - loss: 0.6688 - acc: 0.7841\n",
            "Epoch 132/200\n",
            "34800/34800 [==============================] - 5s 131us/step - loss: 0.6688 - acc: 0.7840\n",
            "Epoch 133/200\n",
            "34800/34800 [==============================] - 5s 140us/step - loss: 0.6690 - acc: 0.7841\n",
            "Epoch 134/200\n",
            "34800/34800 [==============================] - 5s 135us/step - loss: 0.6688 - acc: 0.7841\n",
            "Epoch 135/200\n",
            "34800/34800 [==============================] - 5s 139us/step - loss: 0.6688 - acc: 0.7841\n",
            "Epoch 136/200\n",
            "34800/34800 [==============================] - 4s 124us/step - loss: 0.6689 - acc: 0.7840\n",
            "Epoch 137/200\n",
            "34800/34800 [==============================] - 4s 124us/step - loss: 0.6689 - acc: 0.7841\n",
            "Epoch 138/200\n",
            "34800/34800 [==============================] - 4s 126us/step - loss: 0.6689 - acc: 0.7841\n",
            "Epoch 139/200\n",
            "34800/34800 [==============================] - 5s 133us/step - loss: 0.6692 - acc: 0.7841\n",
            "Epoch 140/200\n",
            "34800/34800 [==============================] - 4s 122us/step - loss: 0.6687 - acc: 0.7841\n",
            "Epoch 141/200\n",
            "34800/34800 [==============================] - 4s 121us/step - loss: 0.6689 - acc: 0.7841\n",
            "Epoch 142/200\n",
            "34800/34800 [==============================] - 4s 119us/step - loss: 0.6690 - acc: 0.7841\n",
            "Epoch 143/200\n",
            "34800/34800 [==============================] - 4s 117us/step - loss: 0.6688 - acc: 0.7841\n",
            "Epoch 144/200\n",
            "34800/34800 [==============================] - 4s 115us/step - loss: 0.6689 - acc: 0.7841\n",
            "Epoch 145/200\n",
            "34800/34800 [==============================] - 4s 122us/step - loss: 0.6690 - acc: 0.7841\n",
            "Epoch 146/200\n",
            "34800/34800 [==============================] - 5s 137us/step - loss: 0.6688 - acc: 0.7841\n",
            "Epoch 147/200\n",
            "34800/34800 [==============================] - 5s 132us/step - loss: 0.6688 - acc: 0.7841\n",
            "Epoch 148/200\n",
            "34800/34800 [==============================] - 4s 122us/step - loss: 0.6689 - acc: 0.7841\n",
            "Epoch 149/200\n",
            "34800/34800 [==============================] - 5s 132us/step - loss: 0.6689 - acc: 0.7841\n",
            "Epoch 150/200\n",
            "34800/34800 [==============================] - 4s 121us/step - loss: 0.6688 - acc: 0.7840\n",
            "Epoch 151/200\n",
            "34800/34800 [==============================] - 4s 126us/step - loss: 0.6690 - acc: 0.7841\n",
            "Epoch 152/200\n",
            "34800/34800 [==============================] - 4s 128us/step - loss: 0.6689 - acc: 0.7841\n",
            "Epoch 153/200\n",
            "34800/34800 [==============================] - 4s 121us/step - loss: 0.6689 - acc: 0.7841\n",
            "Epoch 154/200\n",
            "34800/34800 [==============================] - 4s 119us/step - loss: 0.6687 - acc: 0.7841\n",
            "Epoch 155/200\n",
            "34800/34800 [==============================] - 4s 127us/step - loss: 0.6690 - acc: 0.7841\n",
            "Epoch 156/200\n",
            "34800/34800 [==============================] - 4s 113us/step - loss: 0.6688 - acc: 0.7840\n",
            "Epoch 157/200\n",
            "34800/34800 [==============================] - 4s 123us/step - loss: 0.6689 - acc: 0.7841\n",
            "Epoch 158/200\n",
            "34800/34800 [==============================] - 4s 118us/step - loss: 0.6688 - acc: 0.7841\n",
            "Epoch 159/200\n",
            "34800/34800 [==============================] - 4s 121us/step - loss: 0.6689 - acc: 0.7841\n",
            "Epoch 160/200\n",
            "34800/34800 [==============================] - 4s 125us/step - loss: 0.6688 - acc: 0.7841\n",
            "Epoch 161/200\n",
            "34800/34800 [==============================] - 4s 122us/step - loss: 0.6688 - acc: 0.7841\n",
            "Epoch 162/200\n",
            "34800/34800 [==============================] - 5s 131us/step - loss: 0.6688 - acc: 0.7841\n",
            "Epoch 163/200\n",
            "34800/34800 [==============================] - 4s 129us/step - loss: 0.6686 - acc: 0.7842\n",
            "Epoch 164/200\n",
            "34800/34800 [==============================] - 4s 125us/step - loss: 0.6689 - acc: 0.7841\n",
            "Epoch 165/200\n",
            "34800/34800 [==============================] - 5s 130us/step - loss: 0.6689 - acc: 0.7841\n",
            "Epoch 166/200\n",
            "34800/34800 [==============================] - 4s 122us/step - loss: 0.6688 - acc: 0.7841\n",
            "Epoch 167/200\n",
            "34800/34800 [==============================] - 5s 130us/step - loss: 0.6688 - acc: 0.7840\n",
            "Epoch 168/200\n",
            "34800/34800 [==============================] - 5s 136us/step - loss: 0.6688 - acc: 0.7841\n",
            "Epoch 169/200\n",
            "34800/34800 [==============================] - 5s 141us/step - loss: 0.6687 - acc: 0.7841\n",
            "Epoch 170/200\n",
            "34800/34800 [==============================] - 4s 125us/step - loss: 0.6689 - acc: 0.7841\n",
            "Epoch 171/200\n",
            "34800/34800 [==============================] - 4s 126us/step - loss: 0.6687 - acc: 0.7841\n",
            "Epoch 172/200\n",
            "34800/34800 [==============================] - 4s 122us/step - loss: 0.6687 - acc: 0.7841\n",
            "Epoch 173/200\n",
            "34800/34800 [==============================] - 4s 126us/step - loss: 0.6689 - acc: 0.7841\n",
            "Epoch 174/200\n",
            "34800/34800 [==============================] - 5s 133us/step - loss: 0.6691 - acc: 0.7841\n",
            "Epoch 175/200\n",
            "34800/34800 [==============================] - 4s 129us/step - loss: 0.6687 - acc: 0.7841\n",
            "Epoch 176/200\n",
            "34800/34800 [==============================] - 5s 132us/step - loss: 0.6686 - acc: 0.7841\n",
            "Epoch 177/200\n",
            "34800/34800 [==============================] - 4s 121us/step - loss: 0.6688 - acc: 0.7841\n",
            "Epoch 178/200\n",
            "34800/34800 [==============================] - 4s 124us/step - loss: 0.6687 - acc: 0.7841\n",
            "Epoch 179/200\n",
            "34800/34800 [==============================] - 4s 124us/step - loss: 0.6690 - acc: 0.7841\n",
            "Epoch 180/200\n",
            "34800/34800 [==============================] - 4s 126us/step - loss: 0.6692 - acc: 0.7841\n",
            "Epoch 181/200\n",
            "34800/34800 [==============================] - 5s 132us/step - loss: 0.6692 - acc: 0.7840\n",
            "Epoch 182/200\n",
            "34800/34800 [==============================] - 5s 130us/step - loss: 0.6691 - acc: 0.7841\n",
            "Epoch 183/200\n",
            "34800/34800 [==============================] - 5s 131us/step - loss: 0.6691 - acc: 0.7841\n",
            "Epoch 184/200\n",
            "34800/34800 [==============================] - 4s 124us/step - loss: 0.6689 - acc: 0.7841\n",
            "Epoch 185/200\n",
            "34800/34800 [==============================] - 4s 128us/step - loss: 0.6689 - acc: 0.7841\n",
            "Epoch 186/200\n",
            "34800/34800 [==============================] - 4s 120us/step - loss: 0.6690 - acc: 0.7841\n",
            "Epoch 187/200\n",
            "34800/34800 [==============================] - 5s 131us/step - loss: 0.6692 - acc: 0.7841\n",
            "Epoch 188/200\n",
            "34800/34800 [==============================] - 4s 124us/step - loss: 0.6689 - acc: 0.7841\n",
            "Epoch 189/200\n",
            "34800/34800 [==============================] - 4s 124us/step - loss: 0.6693 - acc: 0.7841\n",
            "Epoch 190/200\n",
            "34800/34800 [==============================] - 5s 131us/step - loss: 0.6689 - acc: 0.7841\n",
            "Epoch 191/200\n",
            "34800/34800 [==============================] - 4s 120us/step - loss: 0.6690 - acc: 0.7841\n",
            "Epoch 192/200\n",
            "34800/34800 [==============================] - 4s 127us/step - loss: 0.6692 - acc: 0.7841\n",
            "Epoch 193/200\n",
            "34800/34800 [==============================] - 4s 122us/step - loss: 0.6686 - acc: 0.7841\n",
            "Epoch 194/200\n",
            "34800/34800 [==============================] - 4s 112us/step - loss: 0.6688 - acc: 0.7841\n",
            "Epoch 195/200\n",
            "34800/34800 [==============================] - 4s 123us/step - loss: 0.6691 - acc: 0.7841\n",
            "Epoch 196/200\n",
            "34800/34800 [==============================] - 4s 123us/step - loss: 0.6688 - acc: 0.7841\n",
            "Epoch 197/200\n",
            "34800/34800 [==============================] - 4s 112us/step - loss: 0.6687 - acc: 0.7841\n",
            "Epoch 198/200\n",
            "34800/34800 [==============================] - 4s 112us/step - loss: 0.6688 - acc: 0.7841\n",
            "Epoch 199/200\n",
            "34800/34800 [==============================] - 4s 119us/step - loss: 0.6688 - acc: 0.7841\n",
            "Epoch 200/200\n",
            "34800/34800 [==============================] - 4s 116us/step - loss: 0.6687 - acc: 0.7841\n"
          ],
          "name": "stdout"
        },
        {
          "output_type": "execute_result",
          "data": {
            "text/plain": [
              "<keras.callbacks.History at 0x7f5f1fa629b0>"
            ]
          },
          "metadata": {
            "tags": []
          },
          "execution_count": 21
        }
      ]
    },
    {
      "cell_type": "code",
      "metadata": {
        "id": "GJyy8iy5waN2",
        "colab_type": "code",
        "colab": {}
      },
      "source": [
        "predictions = model.predict_proba(test_data)\n",
        "predictions = list(predictions)"
      ],
      "execution_count": 0,
      "outputs": []
    },
    {
      "cell_type": "code",
      "metadata": {
        "id": "p9XeNsOVxZXQ",
        "colab_type": "code",
        "colab": {}
      },
      "source": [
        "predictions =np.asarray(predictions)"
      ],
      "execution_count": 0,
      "outputs": []
    },
    {
      "cell_type": "code",
      "metadata": {
        "id": "sRIicP6QWL4e",
        "colab_type": "code",
        "colab": {
          "base_uri": "https://localhost:8080/",
          "height": 34
        },
        "outputId": "773c94e1-1411-4f70-b0f8-022efedbb28f"
      },
      "source": [
        "print(predictions.shape)"
      ],
      "execution_count": 28,
      "outputs": [
        {
          "output_type": "stream",
          "text": [
            "(8700, 7)\n"
          ],
          "name": "stdout"
        }
      ]
    },
    {
      "cell_type": "code",
      "metadata": {
        "id": "-cCl-k4tWvNU",
        "colab_type": "code",
        "colab": {}
      },
      "source": [
        "names = ['THROTTLE HIGH','RAD','P1 BYPASSED','FPV OPENED','PRESSURE VALVE OPEN','CLOSED FPV','PRESSURE VALVE CLOSED']\n",
        "numpy.savetxt(\"res.csv\", predictions,delimiter=\",\")"
      ],
      "execution_count": 0,
      "outputs": []
    },
    {
      "cell_type": "code",
      "metadata": {
        "id": "a-2STNYkXzEk",
        "colab_type": "code",
        "colab": {}
      },
      "source": [
        ""
      ],
      "execution_count": 0,
      "outputs": []
    }
  ]
}